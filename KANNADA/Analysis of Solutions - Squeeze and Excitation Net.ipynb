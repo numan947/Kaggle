{
 "cells": [
  {
   "cell_type": "code",
   "execution_count": 1,
   "metadata": {},
   "outputs": [],
   "source": [
    "import os, sys, random, math\n",
    "import numpy as np\n",
    "import pandas as pd\n",
    "import matplotlib.pylab as plt\n",
    "import seaborn as sns\n",
    "import itertools as it\n",
    "import scipy\n",
    "import glob\n",
    "\n",
    "import torch\n",
    "import torch.nn as nn\n",
    "import torch.optim as optim\n",
    "import torch.nn.functional as F\n",
    "from torch.utils.data import Dataset,DataLoader\n",
    "from torch.optim import Optimizer\n",
    "import torchvision.transforms.transforms as txf\n",
    "import torch.optim.lr_scheduler as lr_scheduler\n",
    "from collections import OrderedDict\n",
    "\n",
    "from sklearn import preprocessing\n",
    "from sklearn.model_selection import train_test_split\n",
    "\n",
    "import torch_utils\n",
    "from tqdm.notebook import tqdm_notebook as tqdm"
   ]
  },
  {
   "cell_type": "code",
   "execution_count": 2,
   "metadata": {},
   "outputs": [
    {
     "name": "stdout",
     "output_type": "stream",
     "text": [
      "Training on cuda\n"
     ]
    }
   ],
   "source": [
    "BATCH_SIZE = 128\n",
    "NUM_WORKERS = 3\n",
    "MULT = 2\n",
    "device = \"cuda\" if torch.cuda.is_available() else \"cpu\" \n",
    "\n",
    "print(\"Training on {}\".format(device))"
   ]
  },
  {
   "cell_type": "code",
   "execution_count": 3,
   "metadata": {},
   "outputs": [],
   "source": [
    "torch_utils.seed_everything(43)"
   ]
  },
  {
   "cell_type": "code",
   "execution_count": 4,
   "metadata": {},
   "outputs": [],
   "source": [
    "class MyData(Dataset):\n",
    "    def __init__(self, X, y=None, transforms=None):\n",
    "        self.X = X\n",
    "        self.y = y\n",
    "        self.transforms = transforms\n",
    "        if y is not None:\n",
    "            assert len(y)==len(X)\n",
    "    \n",
    "    def __len__(self):\n",
    "        return len(self.X)\n",
    "    \n",
    "    def __getitem__(self, idx):\n",
    "        img = np.array(self.X[idx,:], dtype='uint8').reshape(28,28)\n",
    "        if self.transforms is not None:\n",
    "            img = self.transforms(img)\n",
    "        \n",
    "        if self.y is not None:\n",
    "            return img, self.y[idx]\n",
    "        return img"
   ]
  },
  {
   "cell_type": "code",
   "execution_count": 5,
   "metadata": {},
   "outputs": [],
   "source": [
    "train_transforms = txf.Compose([\n",
    "    txf.ToPILImage(),\n",
    "    txf.RandomRotation(10),\n",
    "    txf.RandomAffine(degrees=7, translate=(0.3,0.3), scale=(0.8, 1.2), shear=7,),\n",
    "    txf.ToTensor()\n",
    "])\n",
    "\n",
    "test_transforms = txf.Compose([\n",
    "    txf.ToPILImage(),\n",
    "    txf.FiveCrop(20),\n",
    "    txf.Lambda(lambda crops: [txf.Resize(28)(crop) for crop in crops]),\n",
    "    txf.Lambda(lambda crops: torch.stack([txf.ToTensor()(crop) for crop in crops]))\n",
    "])"
   ]
  },
  {
   "cell_type": "code",
   "execution_count": 6,
   "metadata": {},
   "outputs": [],
   "source": [
    "train_df = pd.read_csv(\"./train.csv\")\n",
    "test_df = pd.read_csv(\"./test.csv\")\n",
    "dig_df = pd.read_csv(\"./Dig-MNIST.csv\")\n",
    "sub_df = pd.read_csv(\"./sample_submission.csv\")"
   ]
  },
  {
   "cell_type": "code",
   "execution_count": 7,
   "metadata": {},
   "outputs": [],
   "source": [
    "target = train_df[\"label\"]\n",
    "train_df.drop(\"label\", axis=1, inplace=True)\n",
    "test_df.drop(\"id\", axis=1, inplace=True)"
   ]
  },
  {
   "cell_type": "code",
   "execution_count": 8,
   "metadata": {},
   "outputs": [],
   "source": [
    "X_train, X_valid, y_train, y_valid = train_test_split(train_df, target, stratify=target, random_state=947, test_size=0.1)"
   ]
  },
  {
   "cell_type": "code",
   "execution_count": 9,
   "metadata": {},
   "outputs": [
    {
     "data": {
      "text/plain": [
       "(54000, 6000)"
      ]
     },
     "execution_count": 9,
     "metadata": {},
     "output_type": "execute_result"
    }
   ],
   "source": [
    "len(X_train), len(X_valid)"
   ]
  },
  {
   "cell_type": "code",
   "execution_count": 10,
   "metadata": {},
   "outputs": [],
   "source": [
    "dataset_train = MyData(train_df.to_numpy(), target.to_numpy(), train_transforms)\n",
    "dataset_valid = MyData(X_valid.to_numpy(), y_valid.to_numpy(), test_transforms)\n",
    "dataset_test = MyData(test_df.to_numpy(), transforms=test_transforms)\n",
    "dataset_dig = MyData(dig_df.drop(\"label\", axis=1).to_numpy(), dig_df[\"label\"].to_numpy(), test_transforms)"
   ]
  },
  {
   "cell_type": "code",
   "execution_count": 11,
   "metadata": {},
   "outputs": [],
   "source": [
    "train_loader = DataLoader(dataset_train, batch_size=BATCH_SIZE, shuffle=True, num_workers=NUM_WORKERS)\n",
    "valid_loader = DataLoader(dataset_valid, batch_size=BATCH_SIZE, shuffle=False, num_workers=NUM_WORKERS)\n",
    "test_loader = DataLoader(dataset_test, batch_size=BATCH_SIZE, shuffle=False, num_workers=NUM_WORKERS)\n",
    "dig_loader = DataLoader(dataset_dig, batch_size=BATCH_SIZE, shuffle=False, num_workers=NUM_WORKERS)"
   ]
  },
  {
   "cell_type": "code",
   "execution_count": 12,
   "metadata": {},
   "outputs": [
    {
     "data": {
      "image/png": "[encoded data removed]",
      "text/plain": [
       "<Figure size 2160x288 with 16 Axes>"
      ]
     },
     "metadata": {
      "needs_background": "light"
     },
     "output_type": "display_data"
    }
   ],
   "source": [
    "fig, ax = plt.subplots(nrows=1, ncols=16, figsize=(30,4))\n",
    "\n",
    "for batch in train_loader:\n",
    "    for i in range(16):\n",
    "        ax[i].set_title(batch[1][i].data.numpy().argmax())\n",
    "        ax[i].imshow(batch[0][i, 0], cmap=\"gray\")\n",
    "    break"
   ]
  },
  {
   "cell_type": "code",
   "execution_count": 13,
   "metadata": {},
   "outputs": [],
   "source": [
    "class SQENet(nn.Module):\n",
    "    def __init__(self, n_classes, drop_prob=0.3):\n",
    "        super(SQENet, self).__init__()\n",
    "        \n",
    "        self.conv1 = torch_utils.CNNLayer(1, MULT*32)\n",
    "        self.conv2 = torch_utils.CNNLayer(MULT*32, MULT*32)\n",
    "        \n",
    "        self.conv3 = torch_utils.CNNLayer(MULT*32, MULT*64)\n",
    "        self.conv4 = torch_utils.CNNLayer(MULT*64, MULT*64)\n",
    "        \n",
    "        self.conv5 = torch_utils.CNNLayer(MULT*64, MULT*128)\n",
    "        self.conv6 = torch_utils.CNNLayer(MULT*128, MULT*128)\n",
    "        \n",
    "        self.se3 = torch_utils.Sq_Ex_Block(in_ch=256,r=8)\n",
    "        \n",
    "        self.fc1 = torch_utils.FCLayer(MULT*128*3*3, 256)\n",
    "        self.fc2 = torch_utils.FCLayer(256, n_classes)\n",
    "        \n",
    "        \n",
    "        self.maxpool = nn.MaxPool2d(2, 2) \n",
    "        self.drop = nn.Dropout2d(p=drop_prob)\n",
    "    \n",
    "    \n",
    "    def forward(self, x):\n",
    "        x = self.conv1(x)\n",
    "        x = self.conv2(x)\n",
    "        x = self.maxpool(x)\n",
    "        x = self.drop(x)\n",
    "\n",
    "        x = self.conv3(x)\n",
    "        x = self.conv4(x)\n",
    "        x = self.maxpool(x)\n",
    "        x = self.drop(x)\n",
    "        \n",
    "        x = self.conv5(x)\n",
    "        x = self.conv6(x)\n",
    "        \n",
    "        x = self.se3(x)\n",
    "        \n",
    "        x = self.maxpool(x)\n",
    "        x = self.drop(x)\n",
    "        \n",
    "        x = x.view(x.size(0), -1)\n",
    "        \n",
    "        x = self.fc1(x)\n",
    "        x = self.fc2(x)\n",
    "        \n",
    "        return x"
   ]
  },
  {
   "cell_type": "code",
   "execution_count": 14,
   "metadata": {},
   "outputs": [],
   "source": [
    "model = SQENet(10)\n",
    "criterion = torch_utils.LabelSmoothingLoss(10, smoothing=0.15)\n",
    "# criterion = nn.CrossEntropyLoss()\n",
    "optimizer = optim.Adam(model.parameters(), lr = 1e-3)\n",
    "scheduler = optim.lr_scheduler.ReduceLROnPlateau(optimizer,verbose=True, patience=5)\n",
    "EPOCHS = 90"
   ]
  },
  {
   "cell_type": "code",
   "execution_count": 15,
   "metadata": {
    "scrolled": true
   },
   "outputs": [],
   "source": [
    "# import time\n",
    "# history = pd.DataFrame()\n",
    "# for epoch in range(EPOCHS):\n",
    "#     curt = time.time()\n",
    "#     torch_utils.clear_cuda()\n",
    "#     print(\"Current Learning Rate: {}\".format(torch_utils.get_lr(optimizer)))\n",
    "    \n",
    "#     tr_loss, tr_acc = torch_utils.train_classifier(model, optimizer, criterion, epoch+1, train_loader, device=device,print_interval=100)\n",
    "#     vl_loss, vl_acc = torch_utils.test_classifier(model, criterion, device, dig_loader, tta=True)\n",
    "    \n",
    "#     scheduler.step(vl_loss)\n",
    "#     print(\"Val Loss: {}  Time Taken: {}\\n\".format(vl_loss, time.time()-curt))\n",
    "    \n",
    "#     history.loc[epoch, \"train_loss\"] = tr_loss\n",
    "#     history.loc[epoch, \"valid_loss\"] = vl_loss\n",
    "#     history.loc[epoch, \"train_accuracy\"] = tr_acc\n",
    "#     history.loc[epoch, \"valid_accuracy\"] = vl_acc"
   ]
  },
  {
   "cell_type": "code",
   "execution_count": 16,
   "metadata": {},
   "outputs": [],
   "source": [
    "# history[\"train_loss\"].plot()"
   ]
  },
  {
   "cell_type": "code",
   "execution_count": 17,
   "metadata": {},
   "outputs": [],
   "source": [
    "# history[\"train_accuracy\"].plot()"
   ]
  },
  {
   "cell_type": "code",
   "execution_count": 18,
   "metadata": {},
   "outputs": [],
   "source": [
    "# history[\"valid_loss\"].plot()"
   ]
  },
  {
   "cell_type": "code",
   "execution_count": 19,
   "metadata": {},
   "outputs": [],
   "source": [
    "# history[\"valid_accuracy\"].plot()"
   ]
  },
  {
   "cell_type": "code",
   "execution_count": 20,
   "metadata": {},
   "outputs": [],
   "source": [
    "# preds = []\n",
    "# for x in test_loader:\n",
    "#     y_pred = model(x.to(device))\n",
    "#     y_pred = y_pred.argmax(dim=1)\n",
    "#     preds.extend(y_pred.cpu().numpy())\n",
    "# sub_df[\"label\"] = pd.Series(preds)"
   ]
  },
  {
   "cell_type": "code",
   "execution_count": 21,
   "metadata": {},
   "outputs": [],
   "source": [
    "# sub_df.to_csv(\"submission.csv\", index=False)"
   ]
  },
  {
   "cell_type": "code",
   "execution_count": 22,
   "metadata": {},
   "outputs": [],
   "source": [
    "# torch.save(model.state_dict(), \"SENet_90.pt\")"
   ]
  },
  {
   "cell_type": "code",
   "execution_count": 24,
   "metadata": {},
   "outputs": [],
   "source": [
    "def pseudo_train(model, optimizer, criterion, current_epoch, train_loader, test_loader, alpha, device=\"cpu\", print_interval=10):\n",
    "    model.train()\n",
    "    model.to(device)\n",
    "    \n",
    "    p_correct = 0\n",
    "    p_loss = 0.0\n",
    "    \n",
    "    for batch_idx, (data, target) in enumerate(test_loader):\n",
    "        \n",
    "        len_data = len(data)\n",
    "        len_dataset = len(test_loader.dataset)\n",
    "        len_loader = len(test_loader)\n",
    "        \n",
    "        \n",
    "        # pseudo labeling\n",
    "        model.eval()\n",
    "        y_pred = model(data)\n",
    "        y_pred = y_pred.argmax(dim=1)\n",
    "        target = torch.LongTensor(y_pred, requires_grad=True)\n",
    "        model.train()\n",
    "        \n",
    "        optimizer.zero_grad()\n",
    "        \n",
    "        data, target = data.to(device), target.to(device)\n",
    "        output = model(data)\n",
    "        \n",
    "        pred = output.argmax(dim=1, keepdim=True)  # get the index of the max log-probability\n",
    "        p_correct += pred.eq(target.view_as(pred)).sum().item()\n",
    "\n",
    "        loss = criterion(output, target)\n",
    "        p_loss+= (loss.item() * len_data)\n",
    "        loss.backward()\n",
    "        optimizer.step()\n",
    "        \n",
    "        if batch_idx%100==0:\n",
    "            for b, (d, t) in train_loader:\n",
    "                d, t = d.to(device), t.to(device)\n",
    "                optimizer.zero_grad()\n",
    "                o = model(d)\n",
    "                l = criterion(o, t)\n",
    "                l.backward()\n",
    "                optimizer.step()\n",
    "        \n",
    "        if batch_idx % print_interval == 0:\n",
    "            print(\n",
    "                'Pseudo Train Epoch: {} [{}/{} ({:.8f}%)]\\tLoss: {:.8f}'.format(\n",
    "                    current_epoch, batch_idx * len_data, len_dataset,100. * batch_idx / len_loader, loss.item()\n",
    "                    )\n",
    "                )\n",
    "    ## This is training, so reduction = mean, i.e. loss.item() already gives the mean of the batch\n",
    "    p_loss/=len_dataset\n",
    "    p_accuracy = 100. * p_correct / len_dataset\n",
    "    print('Train Set: Average loss: {:.8f}, Accuracy: {}/{} ({:.8f}%)'.format(\n",
    "        p_loss, p_correct, len_dataset, p_accuracy\n",
    "        )\n",
    "    )\n",
    "    \n",
    "    return p_loss, p_accuracy"
   ]
  },
  {
   "cell_type": "code",
   "execution_count": null,
   "metadata": {},
   "outputs": [],
   "source": []
  }
 ],
 "metadata": {
  "kernelspec": {
   "display_name": "Python 3",
   "language": "python",
   "name": "python3"
  },
  "language_info": {
   "codemirror_mode": {
    "name": "ipython",
    "version": 3
   },
   "file_extension": ".py",
   "mimetype": "text/x-python",
   "name": "python",
   "nbconvert_exporter": "python",
   "pygments_lexer": "ipython3",
   "version": "3.7.5"
  }
 },
 "nbformat": 4,
 "nbformat_minor": 2
}
