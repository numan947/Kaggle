{
 "cells": [
  {
   "cell_type": "code",
   "execution_count": 1,
   "metadata": {},
   "outputs": [],
   "source": [
    "## ALL IMPORTS FOR A NEW NOTEBOOK\n",
    "\n",
    "import os, sys, random, math\n",
    "import numpy as np\n",
    "import pandas as pd\n",
    "import matplotlib.pylab as plt\n",
    "import seaborn as sns\n",
    "import itertools as it\n",
    "import scipy\n",
    "import glob\n",
    "import matplotlib\n",
    "import torch\n",
    "import torch.nn as nn\n",
    "import torch.optim as optim\n",
    "import torch.nn.functional as F\n",
    "from torch.utils.data import Dataset,DataLoader\n",
    "from torch.optim import Optimizer\n",
    "import torchvision.transforms.transforms as txf\n",
    "import torch.optim.lr_scheduler as lr_scheduler\n",
    "from collections import OrderedDict\n",
    "\n",
    "from sklearn import metrics\n",
    "from sklearn import preprocessing as pp\n",
    "from sklearn import model_selection as ms\n",
    "\n",
    "import torch_utils\n",
    "from tqdm.notebook import tqdm_notebook as tqdm\n",
    "import time\n",
    "\n",
    "font = {'size'   : 20}\n",
    "\n",
    "matplotlib.rc('font', **font)"
   ]
  },
  {
   "cell_type": "code",
   "execution_count": 2,
   "metadata": {},
   "outputs": [],
   "source": [
    "SEED = 947\n",
    "torch_utils.seed_everything(SEED)"
   ]
  },
  {
   "cell_type": "code",
   "execution_count": 3,
   "metadata": {},
   "outputs": [],
   "source": [
    "from torchtext import data, datasets"
   ]
  },
  {
   "cell_type": "code",
   "execution_count": 4,
   "metadata": {},
   "outputs": [],
   "source": [
    "TEXT = data.Field(tokenize=\"spacy\", batch_first=True)\n",
    "LABEL = data.LabelField(dtype=torch.float)"
   ]
  },
  {
   "cell_type": "code",
   "execution_count": 5,
   "metadata": {},
   "outputs": [
    {
     "name": "stdout",
     "output_type": "stream",
     "text": [
      "CPU times: user 1min 31s, sys: 1.74 s, total: 1min 33s\n",
      "Wall time: 2min 38s\n"
     ]
    }
   ],
   "source": [
    "%%time\n",
    "train_data, test_data = datasets.IMDB.splits(TEXT, LABEL)"
   ]
  },
  {
   "cell_type": "code",
   "execution_count": 9,
   "metadata": {},
   "outputs": [],
   "source": [
    "train_data, valid_data = train_data.split(split_ratio=0.8, stratified=True, random_state=random.seed(SEED))"
   ]
  },
  {
   "cell_type": "code",
   "execution_count": 11,
   "metadata": {},
   "outputs": [],
   "source": [
    "MAX_VOCAB_SIZE = 30000\n",
    "TEXT.build_vocab(\n",
    "    train_data,\n",
    "    max_size=MAX_VOCAB_SIZE,\n",
    "    vectors=\"glove.6B.100d\",\n",
    "    unk_init=torch.Tensor.normal_\n",
    ")\n",
    "LABEL.build_vocab(train_data)"
   ]
  },
  {
   "cell_type": "code",
   "execution_count": 12,
   "metadata": {},
   "outputs": [],
   "source": [
    "BATCH_SIZE = 64\n",
    "device = torch.device(\"cuda\" if torch.cuda.is_available() else \"cpu\")\n",
    "\n",
    "train_iterator, valid_iterator, test_iterator = data.BucketIterator.splits(\n",
    "    (train_data, valid_data, test_data),\n",
    "    batch_sizes=(BATCH_SIZE, BATCH_SIZE, BATCH_SIZE),\n",
    "    device=device\n",
    ")"
   ]
  },
  {
   "cell_type": "code",
   "execution_count": 173,
   "metadata": {},
   "outputs": [],
   "source": [
    "class SentimentalCNNv1(nn.Module):\n",
    "    def __init__(self, vocab_size, embedding_dim, n_filters, filter_sizes, output_dim, dropout, pad_idx):\n",
    "        super(SentimentalCNNv1, self).__init__()\n",
    "        \n",
    "        self.embedding = nn.Embedding(\n",
    "            vocab_size,\n",
    "            embedding_dim,\n",
    "            padding_idx=pad_idx\n",
    "        )\n",
    "        self.conv_0 = nn.Conv2d(\n",
    "            in_channels=1,\n",
    "            out_channels=n_filters,\n",
    "            kernel_size=(filter_sizes[0], embedding_dim)\n",
    "        )\n",
    "        self.conv_1 = nn.Conv2d(\n",
    "            in_channels=1,\n",
    "            out_channels=n_filters,\n",
    "            kernel_size=(filter_sizes[1], embedding_dim)\n",
    "        )\n",
    "        self.conv_2 = nn.Conv2d(\n",
    "            in_channels=1,\n",
    "            out_channels=n_filters,\n",
    "            kernel_size=(filter_sizes[2], embedding_dim)\n",
    "        )\n",
    "        self.fc = nn.Linear(len(filter_sizes)* n_filters, output_dim)\n",
    "        self.dropout = nn.Dropout(dropout)\n",
    "    \n",
    "    \n",
    "    def forward(self, txt):\n",
    "        # batch X sentence_lenght\n",
    "        embedded = self.embedding(txt)\n",
    "        # batch X sentence_lengght X embedding dimension\n",
    "        embedded = embedded.unsqueeze(dim=1)\n",
    "        #batch X 1 X sent len X embed dim\n",
    "        \n",
    "        conv0 = F.leaky_relu(self.conv_0(embedded).squeeze(dim=3))\n",
    "        conv1 = F.leaky_relu(self.conv_1(embedded).squeeze(dim=3))\n",
    "        conv2 = F.leaky_relu(self.conv_2(embedded).squeeze(dim=3))\n",
    "        # batch x n_filters x sent len - filter_size[n]+1\n",
    "        \n",
    "        \n",
    "        pool0 = F.max_pool1d(conv0, conv0.shape[2]).squeeze(2)\n",
    "        pool1 = F.max_pool1d(conv1, conv1.shape[2]).squeeze(2)\n",
    "        pool2 = F.max_pool1d(conv2, conv2.shape[2]).squeeze(2)\n",
    "        \n",
    "        cat = torch.cat((pool0, pool1, pool2), dim=1)\n",
    "        cat = self.dropout(cat)\n",
    "        \n",
    "        return self.fc(cat)"
   ]
  },
  {
   "cell_type": "code",
   "execution_count": 174,
   "metadata": {},
   "outputs": [],
   "source": [
    "class SentimentalCNNv2(nn.Module):\n",
    "    def __init__(self, vocab_size, embedding_dim, n_filters, filter_sizes, output_dim, dropout, pad_idx):\n",
    "        super(SentimentalCNNv2, self).__init__()\n",
    "        \n",
    "        self.embedding = nn.Embedding(\n",
    "            vocab_size,\n",
    "            embedding_dim,\n",
    "            padding_idx=pad_idx\n",
    "        )\n",
    "        self.convs = nn.ModuleList([\n",
    "            nn.Conv2d(\n",
    "                in_channels=1, \n",
    "                out_channels=n_filters, \n",
    "                kernel_size=(fs, embedding_dim)\n",
    "            ) for fs in filter_sizes])\n",
    "        \n",
    "        self.fc = nn.Linear(len(filter_sizes)* n_filters, output_dim)\n",
    "        self.dropout = nn.Dropout(dropout)\n",
    "    \n",
    "    \n",
    "    def forward(self, txt):\n",
    "        # batch X sentence_lenght\n",
    "        embedded = self.embedding(txt)\n",
    "        # batch X sentence_lengght X embedding dimension\n",
    "        embedded = embedded.unsqueeze(dim=1)\n",
    "        #batch X 1 X sent len X embed dim\n",
    "        convs = [F.leaky_relu(conv(embedded).squeeze(dim=3)) for conv in self.convs]\n",
    "        # batch x n_filters x sent len - filter_size[n]+1\n",
    "        pooled = [F.max_pool1d(conv, conv.shape[2]).squeeze(dim=2) for conv in convs]\n",
    "        \n",
    "        cat = torch.cat((pooled), dim=1)\n",
    "        dropped = self.dropout(cat)\n",
    "        \n",
    "        return self.fc(dropped)"
   ]
  },
  {
   "cell_type": "code",
   "execution_count": 175,
   "metadata": {},
   "outputs": [],
   "source": [
    "class SentimentalCNNv3(nn.Module):\n",
    "    def __init__(self, vocab_size, embedding_dim, n_filters, filter_sizes, output_dim, dropout, pad_idx):\n",
    "        super(SentimentalCNNv3, self).__init__()\n",
    "        \n",
    "        self.embedding = nn.Embedding(\n",
    "            vocab_size,\n",
    "            embedding_dim,\n",
    "            padding_idx=pad_idx\n",
    "        )\n",
    "        self.convs = nn.ModuleList([\n",
    "            nn.Conv1d(\n",
    "                in_channels=embedding_dim, \n",
    "                out_channels=n_filters, \n",
    "                kernel_size=fs\n",
    "            ) for fs in filter_sizes])\n",
    "        \n",
    "        self.fc = nn.Linear(len(filter_sizes)* n_filters, output_dim)\n",
    "        self.dropout = nn.Dropout(dropout)\n",
    "    \n",
    "    \n",
    "    def forward(self, txt):\n",
    "        # batch X sentence_lenght\n",
    "        embedded = self.embedding(txt)\n",
    "        # batch X sentence_lengght X embedding dimension\n",
    "        embedded = embedded.permute(0,2,1)\n",
    "        #batch X embed dim X sent len \n",
    "        convs = [F.leaky_relu(conv(embedded)) for conv in self.convs]\n",
    "        # batch x n_filters x sent len - filter_size[n]+1\n",
    "        pooled = [F.max_pool1d(conv, conv.shape[2]).squeeze(dim=2) for conv in convs]\n",
    "        \n",
    "        cat = torch.cat((pooled), dim=1)\n",
    "        dropped = self.dropout(cat)\n",
    "        \n",
    "        return self.fc(dropped)"
   ]
  },
  {
   "cell_type": "code",
   "execution_count": 184,
   "metadata": {},
   "outputs": [],
   "source": [
    "INPUT_DIM = len(TEXT.vocab)\n",
    "EMBEDDING_DIM = 100\n",
    "N_FILTERS = 100\n",
    "FILTER_SIZES = [3,4,5]\n",
    "OUTPUT_DIM = 1\n",
    "DROPOUT = 0.5\n",
    "PAD_IDX = TEXT.vocab.stoi[TEXT.pad_token]\n",
    "UNK_IDX = TEXT.vocab.stoi[TEXT.unk_token]\n",
    "\n",
    "\n",
    "model2d = SentimentalCNNv2(INPUT_DIM,EMBEDDING_DIM,N_FILTERS,FILTER_SIZES,OUTPUT_DIM,DROPOUT,PAD_IDX).to(device)\n",
    "model1d = SentimentalCNNv3(INPUT_DIM,EMBEDDING_DIM,N_FILTERS,FILTER_SIZES,OUTPUT_DIM,DROPOUT,PAD_IDX).to(device)\n",
    "torch_utils.clear_cuda()"
   ]
  },
  {
   "cell_type": "code",
   "execution_count": 185,
   "metadata": {},
   "outputs": [],
   "source": [
    "pretrained_embeddings = TEXT.vocab.vectors\n",
    "model1d.embedding.weight.data.copy_(pretrained_embeddings)\n",
    "model2d.embedding.weight.data.copy_(pretrained_embeddings)\n",
    "\n",
    "model1d.embedding.weight.data[UNK_IDX] = torch.zeros(EMBEDDING_DIM)\n",
    "model1d.embedding.weight.data[PAD_IDX] = torch.zeros(EMBEDDING_DIM)\n",
    "model2d.embedding.weight.data[UNK_IDX] = torch.zeros(EMBEDDING_DIM)\n",
    "model2d.embedding.weight.data[PAD_IDX] = torch.zeros(EMBEDDING_DIM)"
   ]
  },
  {
   "cell_type": "code",
   "execution_count": 186,
   "metadata": {},
   "outputs": [],
   "source": [
    "optimizer1d = torch_utils.RAdam(model1d.parameters())\n",
    "optimizer2d = torch_utils.RAdam(model2d.parameters())\n",
    "\n",
    "criterion = nn.BCEWithLogitsLoss()"
   ]
  },
  {
   "cell_type": "code",
   "execution_count": 187,
   "metadata": {},
   "outputs": [],
   "source": [
    "def binary_accuracy(preds, y):\n",
    "    rounded_preds = torch.round(torch.sigmoid(preds))\n",
    "    correct = (rounded_preds==y).float()\n",
    "    return correct.sum()/len(correct)"
   ]
  },
  {
   "cell_type": "code",
   "execution_count": 188,
   "metadata": {},
   "outputs": [],
   "source": [
    "def train(model1d, model2d, iterator, optimizer1d, optimizer2d, criterion):\n",
    "    l1,l2,a1,a2 = 0,0,0,0\n",
    "    model1d.train()\n",
    "    model2d.train()\n",
    "    \n",
    "    for batch in tqdm(iterator):\n",
    "        optimizer1d.zero_grad()\n",
    "        optimizer2d.zero_grad()\n",
    "        \n",
    "        preds1d = model1d(batch.text).squeeze(dim=1)\n",
    "        preds2d = model2d(batch.text).squeeze(dim=1)\n",
    "        \n",
    "        loss1d = criterion(preds1d, batch.label)\n",
    "        loss2d = criterion(preds2d, batch.label)\n",
    "        \n",
    "        acc1d = binary_accuracy(preds1d, batch.label)\n",
    "        acc2d = binary_accuracy(preds2d, batch.label)\n",
    "        \n",
    "        loss1d.backward()\n",
    "        loss2d.backward()\n",
    "        \n",
    "        optimizer1d.step()\n",
    "        optimizer2d.step()\n",
    "        \n",
    "        l1+=loss1d.item()\n",
    "        l2+=loss2d.item()\n",
    "        a1+=acc1d.item()\n",
    "        a2+=acc2d.item()\n",
    "    \n",
    "    return l1/len(iterator), l2/len(iterator), a1/len(iterator), a2/len(iterator)"
   ]
  },
  {
   "cell_type": "code",
   "execution_count": 189,
   "metadata": {},
   "outputs": [],
   "source": [
    "def evaluate(model1d, model2d, iterator, criterion):\n",
    "    l1,l2,a1,a2 = 0,0,0,0\n",
    "    model1d.eval()\n",
    "    model2d.eval()\n",
    "    \n",
    "    with torch.no_grad():\n",
    "        for batch in tqdm(iterator):\n",
    "            preds1d = model1d(batch.text).squeeze(dim=1)\n",
    "            preds2d = model2d(batch.text).squeeze(dim=1)\n",
    "\n",
    "            loss1d = criterion(preds1d, batch.label)\n",
    "            loss2d = criterion(preds2d, batch.label)\n",
    "\n",
    "            acc1d = binary_accuracy(preds1d, batch.label)\n",
    "            acc2d = binary_accuracy(preds2d, batch.label)\n",
    "\n",
    "            l1+=loss1d.item()\n",
    "            l2+=loss2d.item()\n",
    "            a1+=acc1d.item()\n",
    "            a2+=acc2d.item()\n",
    "    \n",
    "    return l1/len(iterator), l2/len(iterator), a1/len(iterator), a2/len(iterator)"
   ]
  },
  {
   "cell_type": "code",
   "execution_count": 190,
   "metadata": {
    "scrolled": true
   },
   "outputs": [
    {
     "name": "stdout",
     "output_type": "stream",
     "text": [
      "EPOCH 1 LEARNING RATE: 0.001\n"
     ]
    },
    {
     "data": {
      "application/vnd.jupyter.widget-view+json": {
       "model_id": "54b2dd80d5554311bb3570bfbb7ba887",
       "version_major": 2,
       "version_minor": 0
      },
      "text/plain": [
       "HBox(children=(IntProgress(value=0, max=313), HTML(value='')))"
      ]
     },
     "metadata": {},
     "output_type": "display_data"
    },
    {
     "name": "stdout",
     "output_type": "stream",
     "text": [
      "\n"
     ]
    },
    {
     "data": {
      "application/vnd.jupyter.widget-view+json": {
       "model_id": "635a9d6371764c8e86f63a070a09cca7",
       "version_major": 2,
       "version_minor": 0
      },
      "text/plain": [
       "HBox(children=(IntProgress(value=0, max=79), HTML(value='')))"
      ]
     },
     "metadata": {},
     "output_type": "display_data"
    },
    {
     "name": "stdout",
     "output_type": "stream",
     "text": [
      "\n",
      "Found better solution (inf --> 0.645280).  Saving model ...\n",
      "Found better solution (inf --> 0.643566).  Saving model ...\n",
      "EPOCH 1 TIME: 26.2432279586792\n",
      "Model 1 TL: 0.69924 TA 55.17173%\n",
      "Model 1 VL: 0.64357 VA 65.52611%\n",
      "Model 2 TL: 0.69812 TA 54.87720%\n",
      "Model 2 VL: 0.64528 VA 64.61630%\n",
      "EPOCH 2 LEARNING RATE: 0.001\n"
     ]
    },
    {
     "data": {
      "application/vnd.jupyter.widget-view+json": {
       "model_id": "f2f6665f10ce49428c78edd2068de303",
       "version_major": 2,
       "version_minor": 0
      },
      "text/plain": [
       "HBox(children=(IntProgress(value=0, max=313), HTML(value='')))"
      ]
     },
     "metadata": {},
     "output_type": "display_data"
    },
    {
     "name": "stdout",
     "output_type": "stream",
     "text": [
      "\n"
     ]
    },
    {
     "data": {
      "application/vnd.jupyter.widget-view+json": {
       "model_id": "59900ab2dc7447a3bb42f8b32e2f2c9f",
       "version_major": 2,
       "version_minor": 0
      },
      "text/plain": [
       "HBox(children=(IntProgress(value=0, max=79), HTML(value='')))"
      ]
     },
     "metadata": {},
     "output_type": "display_data"
    },
    {
     "name": "stdout",
     "output_type": "stream",
     "text": [
      "\n",
      "Found better solution (0.645280 --> 0.510617).  Saving model ...\n",
      "Found better solution (0.643566 --> 0.504348).  Saving model ...\n",
      "EPOCH 2 TIME: 26.10103130340576\n",
      "Model 1 TL: 0.60554 TA 67.14756%\n",
      "Model 1 VL: 0.50435 VA 77.94699%\n",
      "Model 2 TL: 0.60944 TA 66.95288%\n",
      "Model 2 VL: 0.51062 VA 77.98655%\n",
      "EPOCH 3 LEARNING RATE: 0.001\n"
     ]
    },
    {
     "data": {
      "application/vnd.jupyter.widget-view+json": {
       "model_id": "dbbb8bbc156742cb94623c0d60314e26",
       "version_major": 2,
       "version_minor": 0
      },
      "text/plain": [
       "HBox(children=(IntProgress(value=0, max=313), HTML(value='')))"
      ]
     },
     "metadata": {},
     "output_type": "display_data"
    },
    {
     "name": "stdout",
     "output_type": "stream",
     "text": [
      "\n"
     ]
    },
    {
     "data": {
      "application/vnd.jupyter.widget-view+json": {
       "model_id": "d485dd279a764d228f01a7ce3956d65a",
       "version_major": 2,
       "version_minor": 0
      },
      "text/plain": [
       "HBox(children=(IntProgress(value=0, max=79), HTML(value='')))"
      ]
     },
     "metadata": {},
     "output_type": "display_data"
    },
    {
     "name": "stdout",
     "output_type": "stream",
     "text": [
      "\n",
      "Found better solution (0.510617 --> 0.388722).  Saving model ...\n",
      "Found better solution (0.504348 --> 0.388504).  Saving model ...\n",
      "EPOCH 3 TIME: 25.671444177627563\n",
      "Model 1 TL: 0.43254 TA 80.19669%\n",
      "Model 1 VL: 0.38850 VA 83.04984%\n",
      "Model 2 TL: 0.44066 TA 79.68251%\n",
      "Model 2 VL: 0.38872 VA 82.93117%\n",
      "EPOCH 4 LEARNING RATE: 0.001\n"
     ]
    },
    {
     "data": {
      "application/vnd.jupyter.widget-view+json": {
       "model_id": "c86619d7f033445d85125a69df75f816",
       "version_major": 2,
       "version_minor": 0
      },
      "text/plain": [
       "HBox(children=(IntProgress(value=0, max=313), HTML(value='')))"
      ]
     },
     "metadata": {},
     "output_type": "display_data"
    },
    {
     "name": "stdout",
     "output_type": "stream",
     "text": [
      "\n"
     ]
    },
    {
     "data": {
      "application/vnd.jupyter.widget-view+json": {
       "model_id": "613cb1eba27c407795553348a85825be",
       "version_major": 2,
       "version_minor": 0
      },
      "text/plain": [
       "HBox(children=(IntProgress(value=0, max=79), HTML(value='')))"
      ]
     },
     "metadata": {},
     "output_type": "display_data"
    },
    {
     "name": "stdout",
     "output_type": "stream",
     "text": [
      "\n",
      "Found better solution (0.388722 --> 0.344086).  Saving model ...\n",
      "Found better solution (0.388504 --> 0.342470).  Saving model ...\n",
      "EPOCH 4 TIME: 25.615960359573364\n",
      "Model 1 TL: 0.34554 TA 85.02396%\n",
      "Model 1 VL: 0.34247 VA 85.54193%\n",
      "Model 2 TL: 0.33799 TA 85.55811%\n",
      "Model 2 VL: 0.34409 VA 85.68038%\n",
      "EPOCH 5 LEARNING RATE: 0.001\n"
     ]
    },
    {
     "data": {
      "application/vnd.jupyter.widget-view+json": {
       "model_id": "8d8b24ed591a4ddb8d94e61aefa5aba1",
       "version_major": 2,
       "version_minor": 0
      },
      "text/plain": [
       "HBox(children=(IntProgress(value=0, max=313), HTML(value='')))"
      ]
     },
     "metadata": {},
     "output_type": "display_data"
    },
    {
     "name": "stdout",
     "output_type": "stream",
     "text": [
      "\n"
     ]
    },
    {
     "data": {
      "application/vnd.jupyter.widget-view+json": {
       "model_id": "caabecfb7c0f41efbd544f5b32dbd2d8",
       "version_major": 2,
       "version_minor": 0
      },
      "text/plain": [
       "HBox(children=(IntProgress(value=0, max=79), HTML(value='')))"
      ]
     },
     "metadata": {},
     "output_type": "display_data"
    },
    {
     "name": "stdout",
     "output_type": "stream",
     "text": [
      "\n",
      "Found better solution (0.344086 --> 0.324777).  Saving model ...\n",
      "Found better solution (0.342470 --> 0.332209).  Saving model ...\n",
      "EPOCH 5 TIME: 25.46008586883545\n",
      "Model 1 TL: 0.26575 TA 89.19728%\n",
      "Model 1 VL: 0.33221 VA 85.87816%\n",
      "Model 2 TL: 0.26368 TA 88.93770%\n",
      "Model 2 VL: 0.32478 VA 86.27373%\n",
      "EPOCH 6 LEARNING RATE: 0.001\n"
     ]
    },
    {
     "data": {
      "application/vnd.jupyter.widget-view+json": {
       "model_id": "9a37ff204b28448cbe1bce085069542b",
       "version_major": 2,
       "version_minor": 0
      },
      "text/plain": [
       "HBox(children=(IntProgress(value=0, max=313), HTML(value='')))"
      ]
     },
     "metadata": {},
     "output_type": "display_data"
    },
    {
     "name": "stdout",
     "output_type": "stream",
     "text": [
      "\n"
     ]
    },
    {
     "data": {
      "application/vnd.jupyter.widget-view+json": {
       "model_id": "4214ceea32f24258bef379c74d24ca7c",
       "version_major": 2,
       "version_minor": 0
      },
      "text/plain": [
       "HBox(children=(IntProgress(value=0, max=79), HTML(value='')))"
      ]
     },
     "metadata": {},
     "output_type": "display_data"
    },
    {
     "name": "stdout",
     "output_type": "stream",
     "text": [
      "\n",
      "Found better solution (0.324777 --> 0.323087).  Saving model ...\n",
      "EarlyStopping counter: 1 out of 5\n",
      "EPOCH 6 TIME: 24.44394874572754\n",
      "Model 1 TL: 0.20531 TA 92.03275%\n",
      "Model 1 VL: 0.33316 VA 86.01661%\n",
      "Model 2 TL: 0.20669 TA 91.99281%\n",
      "Model 2 VL: 0.32309 VA 86.51108%\n",
      "EPOCH 7 LEARNING RATE: 0.001\n"
     ]
    },
    {
     "data": {
      "application/vnd.jupyter.widget-view+json": {
       "model_id": "fb0376fd6bb7410eb7b4f1226b3f4ae3",
       "version_major": 2,
       "version_minor": 0
      },
      "text/plain": [
       "HBox(children=(IntProgress(value=0, max=313), HTML(value='')))"
      ]
     },
     "metadata": {},
     "output_type": "display_data"
    },
    {
     "name": "stdout",
     "output_type": "stream",
     "text": [
      "\n"
     ]
    },
    {
     "data": {
      "application/vnd.jupyter.widget-view+json": {
       "model_id": "e12ae604d5344d54b2723a48c7777cbf",
       "version_major": 2,
       "version_minor": 0
      },
      "text/plain": [
       "HBox(children=(IntProgress(value=0, max=79), HTML(value='')))"
      ]
     },
     "metadata": {},
     "output_type": "display_data"
    },
    {
     "name": "stdout",
     "output_type": "stream",
     "text": [
      "\n",
      "EarlyStopping counter: 1 out of 5\n",
      "Found better solution (0.332209 --> 0.325300).  Saving model ...\n",
      "EPOCH 7 TIME: 24.472310543060303\n",
      "Model 1 TL: 0.15439 TA 94.12440%\n",
      "Model 1 VL: 0.32530 VA 86.94620%\n",
      "Model 2 TL: 0.14971 TA 94.54872%\n",
      "Model 2 VL: 0.33427 VA 86.47152%\n",
      "EPOCH 8 LEARNING RATE: 0.001\n"
     ]
    },
    {
     "data": {
      "application/vnd.jupyter.widget-view+json": {
       "model_id": "15b4291189b943f2a30778f5c11c69cb",
       "version_major": 2,
       "version_minor": 0
      },
      "text/plain": [
       "HBox(children=(IntProgress(value=0, max=313), HTML(value='')))"
      ]
     },
     "metadata": {},
     "output_type": "display_data"
    },
    {
     "name": "stdout",
     "output_type": "stream",
     "text": [
      "\n"
     ]
    },
    {
     "data": {
      "application/vnd.jupyter.widget-view+json": {
       "model_id": "d7a6308cc3b24e86b05680ef332ed409",
       "version_major": 2,
       "version_minor": 0
      },
      "text/plain": [
       "HBox(children=(IntProgress(value=0, max=79), HTML(value='')))"
      ]
     },
     "metadata": {},
     "output_type": "display_data"
    },
    {
     "name": "stdout",
     "output_type": "stream",
     "text": [
      "\n",
      "EarlyStopping counter: 2 out of 5\n",
      "EarlyStopping counter: 1 out of 5\n",
      "EPOCH 8 TIME: 24.78021240234375\n",
      "Model 1 TL: 0.11534 TA 95.73682%\n",
      "Model 1 VL: 0.35404 VA 86.31329%\n",
      "Model 2 TL: 0.11208 TA 95.89657%\n",
      "Model 2 VL: 0.35973 VA 86.60997%\n",
      "EPOCH 9 LEARNING RATE: 0.001\n"
     ]
    },
    {
     "data": {
      "application/vnd.jupyter.widget-view+json": {
       "model_id": "3dffce03b4a3455b8c6a2d3fcb43c577",
       "version_major": 2,
       "version_minor": 0
      },
      "text/plain": [
       "HBox(children=(IntProgress(value=0, max=313), HTML(value='')))"
      ]
     },
     "metadata": {},
     "output_type": "display_data"
    },
    {
     "name": "stdout",
     "output_type": "stream",
     "text": [
      "\n"
     ]
    },
    {
     "data": {
      "application/vnd.jupyter.widget-view+json": {
       "model_id": "df9d729643704496af3e14847dbd1cdb",
       "version_major": 2,
       "version_minor": 0
      },
      "text/plain": [
       "HBox(children=(IntProgress(value=0, max=79), HTML(value='')))"
      ]
     },
     "metadata": {},
     "output_type": "display_data"
    },
    {
     "name": "stdout",
     "output_type": "stream",
     "text": [
      "\n",
      "EarlyStopping counter: 3 out of 5\n",
      "EarlyStopping counter: 2 out of 5\n",
      "EPOCH 9 TIME: 26.05106210708618\n",
      "Model 1 TL: 0.08057 TA 97.42412%\n",
      "Model 1 VL: 0.37177 VA 87.06487%\n",
      "Model 2 TL: 0.07672 TA 97.51897%\n",
      "Model 2 VL: 0.39406 VA 86.49130%\n",
      "EPOCH 10 LEARNING RATE: 0.0005\n"
     ]
    },
    {
     "data": {
      "application/vnd.jupyter.widget-view+json": {
       "model_id": "a66f7561561347fcacb6e573899e20da",
       "version_major": 2,
       "version_minor": 0
      },
      "text/plain": [
       "HBox(children=(IntProgress(value=0, max=313), HTML(value='')))"
      ]
     },
     "metadata": {},
     "output_type": "display_data"
    },
    {
     "name": "stdout",
     "output_type": "stream",
     "text": [
      "\n"
     ]
    },
    {
     "data": {
      "application/vnd.jupyter.widget-view+json": {
       "model_id": "521a28636d0e4d1b9134d4bc93acc0cf",
       "version_major": 2,
       "version_minor": 0
      },
      "text/plain": [
       "HBox(children=(IntProgress(value=0, max=79), HTML(value='')))"
      ]
     },
     "metadata": {},
     "output_type": "display_data"
    },
    {
     "name": "stdout",
     "output_type": "stream",
     "text": [
      "\n",
      "EarlyStopping counter: 4 out of 5\n",
      "EarlyStopping counter: 3 out of 5\n",
      "EPOCH 10 TIME: 25.553879976272583\n",
      "Model 1 TL: 0.06148 TA 98.05811%\n",
      "Model 1 VL: 0.40401 VA 86.45174%\n",
      "Model 2 TL: 0.05221 TA 98.48742%\n",
      "Model 2 VL: 0.38753 VA 86.88687%\n",
      "EPOCH 11 LEARNING RATE: 0.0005\n"
     ]
    },
    {
     "data": {
      "application/vnd.jupyter.widget-view+json": {
       "model_id": "0ee33cdd1e0347dea2506217e1b5a7fe",
       "version_major": 2,
       "version_minor": 0
      },
      "text/plain": [
       "HBox(children=(IntProgress(value=0, max=313), HTML(value='')))"
      ]
     },
     "metadata": {},
     "output_type": "display_data"
    },
    {
     "name": "stdout",
     "output_type": "stream",
     "text": [
      "\n"
     ]
    },
    {
     "data": {
      "application/vnd.jupyter.widget-view+json": {
       "model_id": "9784b9ec084e4ba2a86fc56fe79c7046",
       "version_major": 2,
       "version_minor": 0
      },
      "text/plain": [
       "HBox(children=(IntProgress(value=0, max=79), HTML(value='')))"
      ]
     },
     "metadata": {},
     "output_type": "display_data"
    },
    {
     "name": "stdout",
     "output_type": "stream",
     "text": [
      "\n",
      "EarlyStopping counter: 5 out of 5\n",
      "EarlyStopping counter: 4 out of 5\n",
      "EPOCH 11 TIME: 25.54375982284546\n",
      "Model 1 TL: 0.04437 TA 98.63718%\n",
      "Model 1 VL: 0.42803 VA 86.84731%\n",
      "Model 2 TL: 0.03781 TA 98.98163%\n",
      "Model 2 VL: 0.40557 VA 86.76820%\n",
      "EPOCH 12 LEARNING RATE: 0.0005\n"
     ]
    },
    {
     "data": {
      "application/vnd.jupyter.widget-view+json": {
       "model_id": "6f4e432ae96d4736826911d3bf4ac479",
       "version_major": 2,
       "version_minor": 0
      },
      "text/plain": [
       "HBox(children=(IntProgress(value=0, max=313), HTML(value='')))"
      ]
     },
     "metadata": {},
     "output_type": "display_data"
    },
    {
     "name": "stdout",
     "output_type": "stream",
     "text": [
      "\n"
     ]
    },
    {
     "data": {
      "application/vnd.jupyter.widget-view+json": {
       "model_id": "c2c3bbfb671743cda175bab921b5bfa6",
       "version_major": 2,
       "version_minor": 0
      },
      "text/plain": [
       "HBox(children=(IntProgress(value=0, max=79), HTML(value='')))"
      ]
     },
     "metadata": {},
     "output_type": "display_data"
    },
    {
     "name": "stdout",
     "output_type": "stream",
     "text": [
      "\n",
      "EarlyStopping counter: 6 out of 5\n",
      "EarlyStopping counter: 5 out of 5\n",
      "EPOCH 12 TIME: 25.275324821472168\n",
      "Model 1 TL: 0.03135 TA 99.09645%\n",
      "Model 1 VL: 0.45543 VA 86.64953%\n",
      "Model 2 TL: 0.02973 TA 99.26118%\n",
      "Model 2 VL: 0.43038 VA 86.57041%\n"
     ]
    },
    {
     "ename": "AttributeError",
     "evalue": "'EarlyStopping' object has no attribute 'eary_stop'",
     "output_type": "error",
     "traceback": [
      "\u001b[0;31m---------------------------------------------------------------------------\u001b[0m",
      "\u001b[0;31mAttributeError\u001b[0m                            Traceback (most recent call last)",
      "\u001b[0;32m<ipython-input-190-a50ec99f06dd>\u001b[0m in \u001b[0;36m<module>\u001b[0;34m\u001b[0m\n\u001b[1;32m     39\u001b[0m     \u001b[0mhistory\u001b[0m\u001b[0;34m.\u001b[0m\u001b[0mloc\u001b[0m\u001b[0;34m[\u001b[0m\u001b[0me\u001b[0m\u001b[0;34m,\u001b[0m \u001b[0;34m\"valid_acc_1d\"\u001b[0m\u001b[0;34m]\u001b[0m \u001b[0;34m=\u001b[0m \u001b[0mva1d\u001b[0m\u001b[0;34m\u001b[0m\u001b[0;34m\u001b[0m\u001b[0m\n\u001b[1;32m     40\u001b[0m \u001b[0;34m\u001b[0m\u001b[0m\n\u001b[0;32m---> 41\u001b[0;31m     \u001b[0;32mif\u001b[0m \u001b[0mea1\u001b[0m\u001b[0;34m.\u001b[0m\u001b[0mearly_stop\u001b[0m \u001b[0;32mand\u001b[0m \u001b[0mea2\u001b[0m\u001b[0;34m.\u001b[0m\u001b[0meary_stop\u001b[0m\u001b[0;34m:\u001b[0m\u001b[0;34m\u001b[0m\u001b[0;34m\u001b[0m\u001b[0m\n\u001b[0m\u001b[1;32m     42\u001b[0m         \u001b[0;32mbreak\u001b[0m\u001b[0;34m\u001b[0m\u001b[0;34m\u001b[0m\u001b[0m\n",
      "\u001b[0;31mAttributeError\u001b[0m: 'EarlyStopping' object has no attribute 'eary_stop'"
     ]
    }
   ],
   "source": [
    "N_EPOCHS = 30\n",
    "best_valid_loss1d = float(\"inf\")\n",
    "best_valid_loss2d = float(\"inf\")\n",
    "history = pd.DataFrame()\n",
    "\n",
    "scheduler = optim.lr_scheduler.ReduceLROnPlateau(optimizer2d,patience=2, factor=0.5)\n",
    "ea1 = torch_utils.EarlyStopping(patience=5, verbose=True)\n",
    "ea2 = torch_utils.EarlyStopping(patience=5, verbose=True)\n",
    "for e in range(N_EPOCHS):\n",
    "    print(\"EPOCH {} LEARNING RATE: {}\".format(e+1, torch_utils.get_lr(optimizer2d)))\n",
    "    st = time.time()\n",
    "    tl1d, tl2d, ta1d, ta2d = train(model1d, model2d, train_iterator, optimizer1d, optimizer2d, criterion)\n",
    "    vl1d, vl2d, va1d, va2d = evaluate(model1d, model2d, valid_iterator, criterion)\n",
    "    \n",
    "    if vl1d<best_valid_loss1d:\n",
    "        best_valid_loss1d = vl1d\n",
    "        torch.save(model1d.state_dict(),\"best_valid_1d.pt\")\n",
    "    if vl2d<best_valid_loss2d:\n",
    "        best_valid_loss2d = vl2d\n",
    "        torch.save(model2d.state_dict(),\"best_valid_2d.pt\")\n",
    "    scheduler.step(vl2d)\n",
    "    ea2(vl2d, model2d)\n",
    "    ea1(vl1d, model1d)\n",
    "    \n",
    "    print(\"EPOCH {} TIME: {}\".format(e+1, time.time()-st))\n",
    "    print(\"Model {} TL: {:.5f} TA {:.5f}%\".format(1, tl1d, 100.0*ta1d))\n",
    "    print(\"Model {} VL: {:.5f} VA {:.5f}%\".format(1, vl1d, 100.0*va1d))\n",
    "    print(\"Model {} TL: {:.5f} TA {:.5f}%\".format(2, tl2d, 100.0*ta2d))\n",
    "    print(\"Model {} VL: {:.5f} VA {:.5f}%\".format(2, vl2d, 100.0*va2d))\n",
    "    \n",
    "    history.loc[e, \"train_loss_2d\"] = tl2d\n",
    "    history.loc[e, \"valid_loss_2d\"] = vl2d\n",
    "    history.loc[e, \"train_acc_2d\"] = ta2d\n",
    "    history.loc[e, \"valid_acc_2d\"] = va2d\n",
    "    \n",
    "    history.loc[e, \"train_loss_1d\"] = tl1d\n",
    "    history.loc[e, \"valid_loss_1d\"] = vl1d\n",
    "    history.loc[e, \"train_acc_1d\"] = ta1d\n",
    "    history.loc[e, \"valid_acc_1d\"] = va1d\n",
    "    \n",
    "    if ea1.early_stop and ea2.early_stop:\n",
    "        break"
   ]
  },
  {
   "cell_type": "code",
   "execution_count": 191,
   "metadata": {},
   "outputs": [
    {
     "data": {
      "text/plain": [
       "<matplotlib.axes._subplots.AxesSubplot at 0x7fbe50188410>"
      ]
     },
     "execution_count": 191,
     "metadata": {},
     "output_type": "execute_result"
    },
    {
     "data": {
      "image/png": "[encoded data removed]",
      "text/plain": [
       "<Figure size 432x288 with 1 Axes>"
      ]
     },
     "metadata": {
      "needs_background": "light"
     },
     "output_type": "display_data"
    }
   ],
   "source": [
    "history[\"train_loss_2d\"].plot()"
   ]
  },
  {
   "cell_type": "code",
   "execution_count": 192,
   "metadata": {},
   "outputs": [
    {
     "data": {
      "text/plain": [
       "<matplotlib.axes._subplots.AxesSubplot at 0x7fbe5010e950>"
      ]
     },
     "execution_count": 192,
     "metadata": {},
     "output_type": "execute_result"
    },
    {
     "data": {
      "image/png": "[encoded data removed]",
      "text/plain": [
       "<Figure size 432x288 with 1 Axes>"
      ]
     },
     "metadata": {
      "needs_background": "light"
     },
     "output_type": "display_data"
    }
   ],
   "source": [
    "history[\"valid_loss_2d\"].plot()"
   ]
  },
  {
   "cell_type": "code",
   "execution_count": 193,
   "metadata": {},
   "outputs": [
    {
     "data": {
      "text/plain": [
       "<matplotlib.axes._subplots.AxesSubplot at 0x7fbe50212710>"
      ]
     },
     "execution_count": 193,
     "metadata": {},
     "output_type": "execute_result"
    },
    {
     "data": {
      "image/png": "[encoded data removed]",
      "text/plain": [
       "<Figure size 432x288 with 1 Axes>"
      ]
     },
     "metadata": {
      "needs_background": "light"
     },
     "output_type": "display_data"
    }
   ],
   "source": [
    "history[\"train_acc_2d\"].plot()"
   ]
  },
  {
   "cell_type": "code",
   "execution_count": 194,
   "metadata": {},
   "outputs": [
    {
     "data": {
      "text/plain": [
       "<matplotlib.axes._subplots.AxesSubplot at 0x7fbe12238e10>"
      ]
     },
     "execution_count": 194,
     "metadata": {},
     "output_type": "execute_result"
    },
    {
     "data": {
      "image/png": "[encoded data removed]",
      "text/plain": [
       "<Figure size 432x288 with 1 Axes>"
      ]
     },
     "metadata": {
      "needs_background": "light"
     },
     "output_type": "display_data"
    }
   ],
   "source": [
    "history[\"valid_acc_2d\"].plot()"
   ]
  },
  {
   "cell_type": "code",
   "execution_count": 195,
   "metadata": {},
   "outputs": [
    {
     "data": {
      "text/plain": [
       "<matplotlib.axes._subplots.AxesSubplot at 0x7fbe12213f90>"
      ]
     },
     "execution_count": 195,
     "metadata": {},
     "output_type": "execute_result"
    },
    {
     "data": {
      "image/png": "[encoded data removed]",
      "text/plain": [
       "<Figure size 432x288 with 1 Axes>"
      ]
     },
     "metadata": {
      "needs_background": "light"
     },
     "output_type": "display_data"
    }
   ],
   "source": [
    "history[\"train_loss_1d\"].plot()"
   ]
  },
  {
   "cell_type": "code",
   "execution_count": 196,
   "metadata": {},
   "outputs": [
    {
     "data": {
      "text/plain": [
       "<matplotlib.axes._subplots.AxesSubplot at 0x7fbe121ed790>"
      ]
     },
     "execution_count": 196,
     "metadata": {},
     "output_type": "execute_result"
    },
    {
     "data": {
      "image/png": "[encoded data removed]",
      "text/plain": [
       "<Figure size 432x288 with 1 Axes>"
      ]
     },
     "metadata": {
      "needs_background": "light"
     },
     "output_type": "display_data"
    }
   ],
   "source": [
    "history[\"valid_loss_1d\"].plot()"
   ]
  },
  {
   "cell_type": "code",
   "execution_count": 197,
   "metadata": {},
   "outputs": [
    {
     "data": {
      "text/plain": [
       "<matplotlib.axes._subplots.AxesSubplot at 0x7fbe12138fd0>"
      ]
     },
     "execution_count": 197,
     "metadata": {},
     "output_type": "execute_result"
    },
    {
     "data": {
      "image/png": "[encoded data removed]",
      "text/plain": [
       "<Figure size 432x288 with 1 Axes>"
      ]
     },
     "metadata": {
      "needs_background": "light"
     },
     "output_type": "display_data"
    }
   ],
   "source": [
    "history[\"train_acc_1d\"].plot()"
   ]
  },
  {
   "cell_type": "code",
   "execution_count": 198,
   "metadata": {},
   "outputs": [
    {
     "data": {
      "text/plain": [
       "<matplotlib.axes._subplots.AxesSubplot at 0x7fbe12121e90>"
      ]
     },
     "execution_count": 198,
     "metadata": {},
     "output_type": "execute_result"
    },
    {
     "data": {
      "image/png": "[encoded data removed]",
      "text/plain": [
       "<Figure size 432x288 with 1 Axes>"
      ]
     },
     "metadata": {
      "needs_background": "light"
     },
     "output_type": "display_data"
    }
   ],
   "source": [
    "history[\"valid_acc_1d\"].plot()"
   ]
  },
  {
   "cell_type": "code",
   "execution_count": 199,
   "metadata": {},
   "outputs": [
    {
     "data": {
      "application/vnd.jupyter.widget-view+json": {
       "model_id": "6dbb2a8035784f6ab25a5ab153d3ce3e",
       "version_major": 2,
       "version_minor": 0
      },
      "text/plain": [
       "HBox(children=(IntProgress(value=0, max=391), HTML(value='')))"
      ]
     },
     "metadata": {},
     "output_type": "display_data"
    },
    {
     "name": "stdout",
     "output_type": "stream",
     "text": [
      "\n",
      "0.47158506634595143 85.38043479175519\n",
      "0.5178641037029379 85.04635549872123\n"
     ]
    }
   ],
   "source": [
    "l1,l2,a1,a2 = evaluate(model1d, model2d, test_iterator, criterion)\n",
    "print(l2, 100*a2)\n",
    "print(l1, 100*a1)"
   ]
  },
  {
   "cell_type": "code",
   "execution_count": 200,
   "metadata": {},
   "outputs": [
    {
     "data": {
      "text/plain": [
       "<All keys matched successfully>"
      ]
     },
     "execution_count": 200,
     "metadata": {},
     "output_type": "execute_result"
    }
   ],
   "source": [
    "model2d.load_state_dict(torch.load(\"best_valid_2d.pt\", map_location=device))\n",
    "model1d.load_state_dict(torch.load(\"best_valid_1d.pt\", map_location=device))"
   ]
  },
  {
   "cell_type": "code",
   "execution_count": 201,
   "metadata": {},
   "outputs": [
    {
     "data": {
      "application/vnd.jupyter.widget-view+json": {
       "model_id": "596d81508e7e4a0eab6cdfeffe35cba2",
       "version_major": 2,
       "version_minor": 0
      },
      "text/plain": [
       "HBox(children=(IntProgress(value=0, max=391), HTML(value='')))"
      ]
     },
     "metadata": {},
     "output_type": "display_data"
    },
    {
     "name": "stdout",
     "output_type": "stream",
     "text": [
      "\n",
      "0.34638526324954483 85.19661126234342\n",
      "0.3472147248971188 86.038203327857\n"
     ]
    }
   ],
   "source": [
    "l1,l2,a1,a2 = evaluate(model1d, model2d, test_iterator, criterion)\n",
    "print(l2, 100*a2)\n",
    "print(l1, 100*a1)"
   ]
  },
  {
   "cell_type": "code",
   "execution_count": 202,
   "metadata": {},
   "outputs": [],
   "source": [
    "import spacy\n",
    "nlp = spacy.load(\"en\")"
   ]
  },
  {
   "cell_type": "code",
   "execution_count": 207,
   "metadata": {},
   "outputs": [],
   "source": [
    "def predict_sentiment(model, txt, min_length = 5):\n",
    "    model.eval()\n",
    "    tokenized = [tok.text for tok in nlp.tokenizer(txt)]\n",
    "    if len(tokenized)<min_length:\n",
    "        tokenized+=[\"<pad>\"]*(min_length-len(tokenized))\n",
    "    indexed = [TEXT.vocab.stoi[t] for t in tokenized]\n",
    "    tensor = torch.LongTensor(indexed).to(device)\n",
    "    tensor = tensor.unsqueeze(dim=0)\n",
    "    pred = torch.sigmoid(model(tensor))\n",
    "    return pred.item()"
   ]
  },
  {
   "cell_type": "code",
   "execution_count": 214,
   "metadata": {},
   "outputs": [
    {
     "name": "stdout",
     "output_type": "stream",
     "text": [
      "0.015887578949332237\n",
      "0.045606374740600586\n"
     ]
    }
   ],
   "source": [
    "print(predict_sentiment(model1d, \"why would the director make such a greatly boring movie?\"))\n",
    "print(predict_sentiment(model2d, \"why would the director make such a greatly boring movie?\"))"
   ]
  },
  {
   "cell_type": "code",
   "execution_count": null,
   "metadata": {},
   "outputs": [],
   "source": []
  }
 ],
 "metadata": {
  "kernelspec": {
   "display_name": "Python 3",
   "language": "python",
   "name": "python3"
  },
  "language_info": {
   "codemirror_mode": {
    "name": "ipython",
    "version": 3
   },
   "file_extension": ".py",
   "mimetype": "text/x-python",
   "name": "python",
   "nbconvert_exporter": "python",
   "pygments_lexer": "ipython3",
   "version": "3.7.5"
  }
 },
 "nbformat": 4,
 "nbformat_minor": 2
}
