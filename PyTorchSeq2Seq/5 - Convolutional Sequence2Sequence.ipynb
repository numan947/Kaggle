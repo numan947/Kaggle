{
 "cells": [
  {
   "cell_type": "code",
   "execution_count": 1,
   "metadata": {},
   "outputs": [],
   "source": [
    "## ALL IMPORTS FOR A NEW NOTEBOOK\n",
    "\n",
    "import os, sys, random, math\n",
    "import numpy as np\n",
    "import pandas as pd\n",
    "import matplotlib.pylab as plt\n",
    "import seaborn as sns\n",
    "import itertools as it\n",
    "import scipy\n",
    "import glob\n",
    "import matplotlib\n",
    "import torch\n",
    "import torch.nn as nn\n",
    "import torch.optim as optim\n",
    "import torch.nn.functional as F\n",
    "from torch.utils.data import Dataset,DataLoader\n",
    "from torch.optim import Optimizer\n",
    "import torchvision.transforms.transforms as txf\n",
    "import torch.optim.lr_scheduler as lr_scheduler\n",
    "from collections import OrderedDict\n",
    "\n",
    "from sklearn import metrics\n",
    "from sklearn import preprocessing as pp\n",
    "from sklearn import model_selection as ms\n",
    "\n",
    "import torch_utils\n",
    "from tqdm.notebook import tqdm_notebook as tqdm\n",
    "import time\n",
    "\n",
    "font = {'size'   : 20}\n",
    "\n",
    "matplotlib.rc('font', **font)\n",
    "\n",
    "device = torch.device(\"cuda\" if torch.cuda.is_available() else \"cpu\")\n",
    "\n",
    "from torchtext import data, datasets\n",
    "import spacy"
   ]
  },
  {
   "cell_type": "code",
   "execution_count": 2,
   "metadata": {},
   "outputs": [],
   "source": [
    "SEED = 947\n",
    "torch_utils.seed_everything(SEED)"
   ]
  },
  {
   "cell_type": "code",
   "execution_count": 3,
   "metadata": {},
   "outputs": [],
   "source": [
    "spacy_de = spacy.load(\"de\")\n",
    "spacy_en = spacy.load(\"en\")"
   ]
  },
  {
   "cell_type": "code",
   "execution_count": 4,
   "metadata": {},
   "outputs": [],
   "source": [
    "def tokenize_de(txt):\n",
    "    return [tok.text for tok in spacy_de.tokenizer(txt)]\n",
    "def tokenize_en(txt):\n",
    "    return [tok.text for tok in spacy_en.tokenizer(txt)]"
   ]
  },
  {
   "cell_type": "code",
   "execution_count": 5,
   "metadata": {},
   "outputs": [],
   "source": [
    "SRC = data.Field(\n",
    "    tokenize=tokenize_de,\n",
    "    init_token=\"<sos>\",\n",
    "    eos_token=\"<eos>\",\n",
    "    lower=True,\n",
    "    batch_first=True\n",
    ")\n",
    "TRG = data.Field(\n",
    "    tokenize=tokenize_en,\n",
    "    init_token=\"<sos>\",\n",
    "    eos_token=\"<eos>\",\n",
    "    lower=True,\n",
    "    batch_first=True\n",
    ")"
   ]
  },
  {
   "cell_type": "code",
   "execution_count": 6,
   "metadata": {},
   "outputs": [],
   "source": [
    "train_data, valid_data, test_data = datasets.Multi30k.splits(exts=(\".de\",\".en\"), fields=(SRC, TRG))\n",
    "SRC.build_vocab(train_data, min_freq=2)\n",
    "TRG.build_vocab(train_data, min_freq=2)"
   ]
  },
  {
   "cell_type": "code",
   "execution_count": 7,
   "metadata": {},
   "outputs": [],
   "source": [
    "BATCH_SIZE=150\n",
    "train_iterator, valid_iterator, test_iterator = data.BucketIterator.splits(\n",
    "(train_data, valid_data, test_data),\n",
    "batch_size=BATCH_SIZE,\n",
    "    device=device\n",
    ")"
   ]
  },
  {
   "cell_type": "code",
   "execution_count": 8,
   "metadata": {},
   "outputs": [],
   "source": [
    "class Encoder(nn.Module):\n",
    "    def __init__(self, input_dim, emb_dim, hid_dim, n_layers, kernel_size, dropout, device, pos_dim=100):\n",
    "        super(Encoder, self).__init__()\n",
    "        \n",
    "        assert kernel_size%2 == 1, \"Kernel size must be odd!\"\n",
    "        \n",
    "        self.device = device\n",
    "        self.scale = torch.sqrt(torch.FloatTensor([0.5])).to(device)\n",
    "        \n",
    "        self.tok_embedding = nn.Embedding(input_dim, emb_dim)\n",
    "        self.pos_embedding = nn.Embedding(pos_dim, emb_dim)\n",
    "        \n",
    "        self.emb2hid = nn.Linear(emb_dim, hid_dim)\n",
    "        self.hid2emb = nn.Linear(hid_dim, emb_dim)\n",
    "        \n",
    "        self.convs = nn.ModuleList([nn.Conv1d(\n",
    "            in_channels=hid_dim,\n",
    "            out_channels=2*hid_dim,\n",
    "            kernel_size=kernel_size,\n",
    "            padding=(kernel_size-1)//2) for _ in range(n_layers)])\n",
    "        self.dropout = nn.Dropout(dropout)\n",
    "    \n",
    "    def forward(self, src):\n",
    "        # src -- batch_size X seq_len\n",
    "        batch_size, seq_len = src.shape\n",
    "        \n",
    "        # tensor for the positions\n",
    "        pos = torch.arange(0, seq_len).unsqueeze(0).repeat(batch_size, 1).to(self.device)\n",
    "        # pos -- batch_size X seq_len\n",
    "        \n",
    "        tok_embedded = self.tok_embedding(src)\n",
    "        pos_embedded = self.pos_embedding(pos)\n",
    "        \n",
    "        embedded = self.dropout(tok_embedded+pos_embedded)\n",
    "        # combined the positional and token embeddings\n",
    "        # embedded --- batch_size X seq_len X emb_dim\n",
    "        \n",
    "        \n",
    "        conv_input = self.emb2hid(embedded)\n",
    "        # conv_input -- batch_size X seq_len X hid_dim\n",
    "        \n",
    "        conv_input = conv_input.permute(0, 2, 1)\n",
    "        # conv_input -- batch_size X hid_dim X seq_len; hid_dim -- works like channel dimension here for 1d CNN\n",
    "        \n",
    "        for i, conv in enumerate(self.convs):\n",
    "            conved = conv(self.dropout(conv_input))\n",
    "            # conved -- batch_size X 2*hid_dim X seq_len\n",
    "            conved = F.glu(conved, dim=1)\n",
    "            # conved -- batch_size X hid_dim X seq_len\n",
    "            conved = (conved+conv_input)*self.scale\n",
    "            # residual connection and rescaling inside convolutional blocks\n",
    "            conv_input = conved\n",
    "            # pass for the next layer\n",
    "        \n",
    "        # conved -- batch_size X hid_dim X seq_len\n",
    "        conved = self.hid2emb(conved.permute(0, 2, 1))\n",
    "        # conved --  batch_size X seq_len X emb_dim\n",
    "        \n",
    "        combined = (conved+embedded)*self.scale\n",
    "        # residual and rescaling outside the convolutional blocks\n",
    "        return conved, combined"
   ]
  },
  {
   "cell_type": "code",
   "execution_count": 9,
   "metadata": {},
   "outputs": [],
   "source": [
    "class Decoder(nn.Module):\n",
    "    def __init__(self, output_dim, emb_dim, hid_dim, n_layers, kernel_size, dropout, trg_pad_idx, device, pos_dim=100):\n",
    "        super(Decoder, self).__init__()\n",
    "        \n",
    "        self.kernel_size = kernel_size\n",
    "        self.trg_pad_idx = trg_pad_idx\n",
    "        self.device = device\n",
    "        \n",
    "        self.scale = torch.sqrt(torch.FloatTensor([0.5])).to(device)\n",
    "        \n",
    "        self.tok_embedding = nn.Embedding(output_dim, emb_dim)\n",
    "        self.pos_embedding = nn.Embedding(pos_dim, emb_dim)\n",
    "        \n",
    "        self.emb2hid = nn.Linear(emb_dim, hid_dim)\n",
    "        self.hid2emb = nn.Linear(hid_dim, emb_dim)\n",
    "        \n",
    "        self.attn_hid2emb = nn.Linear(hid_dim, emb_dim)\n",
    "        self.attn_emb2hid = nn.Linear(emb_dim, hid_dim)\n",
    "        \n",
    "        self.fc_out = nn.Linear(emb_dim, output_dim)\n",
    "        \n",
    "        self.convs = nn.ModuleList([nn.Conv1d(in_channels=hid_dim, out_channels=hid_dim*2, kernel_size=kernel_size) for _ in range(n_layers)])\n",
    "        self.dropout = nn.Dropout(dropout)\n",
    "    \n",
    "    def forward(self, trg, encoder_conved, encoder_combined):\n",
    "        batch_size, seq_len = trg.shape\n",
    "        pos = torch.arange(0, seq_len).unsqueeze(dim=0).repeat(batch_size, 1).to(self.device)\n",
    "        # pos -- batch_size X seq_len\n",
    "        # trg -- batch_size X seq_len\n",
    "        # encoder_conved | encoder_combined -- batch_size X seq_len X emb_dim\n",
    "        \n",
    "        tok_embedded = self.tok_embedding(trg)\n",
    "        pos_embedded = self.pos_embedding(pos)\n",
    "        \n",
    "        embedded = self.dropout(tok_embedded+pos_embedded)\n",
    "        # embedded -- batch_size X seq_len X emb_dim\n",
    "        \n",
    "        conv_input = self.emb2hid(embedded)\n",
    "        # conv_input -- batch_size X seq_len X hid_dim\n",
    "        conv_input = conv_input.permute(0, 2, 1)\n",
    "        # conv_input -- batch_size X hid_dim X seq_len\n",
    "        batch_size = conv_input.shape[0]\n",
    "        hid_dim = conv_input.shape[1]\n",
    "        \n",
    "        for i, conv in enumerate(self.convs):\n",
    "            conv_input = self.dropout(conv_input)\n",
    "            \n",
    "            padding = torch.zeros(batch_size, hid_dim, self.kernel_size-1).fill_(self.trg_pad_idx).to(device)\n",
    "            padded_conv_input = torch.cat((padding, conv_input), dim=2)\n",
    "            # padded_conv_input --  batch_size X hidden_dim X seq_len + kernel_size-1\n",
    "            \n",
    "            conved = conv(padded_conv_input)\n",
    "            # conved -- batch_size X 2*hidden_dim X seq_len\n",
    "            conved = F.glu(conved, dim=1)\n",
    "            # conved -- batch_size X hidden_dim X seq_len\n",
    "            \n",
    "            # calculate and apply attention\n",
    "            attention, conved = self.calculate_attention(embedded, conved, encoder_conved, encoder_combined)\n",
    "            # attention -- batch_size X trg_len X src_len\n",
    "            \n",
    "            conved = (conved+conv_input)*self.scale\n",
    "            # conved --  batch_size X hid_dim X trg_len\n",
    "            conv_input = conved\n",
    "        \n",
    "        conved = self.hid2emb(conved.permute(0, 2, 1))\n",
    "        output = self.fc_out(self.dropout(conved))\n",
    "        # output -- batch_size X trg_len X output_dim\n",
    "        \n",
    "        return output, attention\n",
    "    \n",
    "    def calculate_attention(self, embedded, conved, encoder_conved, encoder_combined):\n",
    "        # embedded --  batch_size X trg_len X emb_dim\n",
    "        # conved -- batch_size X hid_dim X trg_len\n",
    "        # encoder_conved | encoder_combined --  batch_size X src_len X emb_dim\n",
    "        \n",
    "        conved_emb = self.attn_hid2emb(conved.permute(0,2,1))\n",
    "        combined = (conved_emb+embedded)*self.scale\n",
    "        # combined -- batch_size X trg_len X emb_dim\n",
    "        \n",
    "        energy = torch.matmul(combined, encoder_conved.permute(0,2,1))\n",
    "        # energy --  batch_size X trg_len X src_len\n",
    "        attention = F.softmax(energy, dim=2)\n",
    "        # attention -- batch_size X trg_len X src_len\n",
    "        \n",
    "        attended_encoding = torch.matmul(attention, encoder_combined)\n",
    "        # attended_encoding -- batch_size X trg_len X emb_dim\n",
    "        \n",
    "        attended_encoding = self.attn_emb2hid(attended_encoding)\n",
    "        \n",
    "        attended_combined = (conved+attended_encoding.permute(0,2,1))*self.scale\n",
    "        \n",
    "        return attention, attended_combined\n",
    "                "
   ]
  },
  {
   "cell_type": "code",
   "execution_count": 10,
   "metadata": {},
   "outputs": [],
   "source": [
    "class Seq2Seq(nn.Module):\n",
    "    def __init__(self, encoder, decoder):\n",
    "        super(Seq2Seq, self).__init__()\n",
    "        \n",
    "        self.encoder = encoder\n",
    "        self.decoder = decoder\n",
    "        \n",
    "    def forward(self, src, trg):\n",
    "        encoder_conved, encoder_combined = self.encoder(src)\n",
    "        output, attention = self.decoder(trg, encoder_conved, encoder_combined)\n",
    "        return output, attention"
   ]
  },
  {
   "cell_type": "code",
   "execution_count": 11,
   "metadata": {},
   "outputs": [],
   "source": [
    "def train(model, iterator, optimizer, criterion, clip):\n",
    "    model.train()\n",
    "    el = 0\n",
    "    \n",
    "    for batch in tqdm(iterator):\n",
    "        src = batch.src\n",
    "        trg = batch.trg\n",
    "        \n",
    "        optimizer.zero_grad()\n",
    "        \n",
    "        output, _ = model(src, trg[:,:-1])\n",
    "        # output -- batch_size X trg_len-1 X output_dim\n",
    "        # trg -- batch_size X trg_len\n",
    "        output_dim = output.shape[-1]\n",
    "        \n",
    "        output = output.contiguous().view(-1, output_dim)\n",
    "        trg = trg[:,1:].contiguous().view(-1)\n",
    "        \n",
    "        loss = criterion(output, trg)\n",
    "        loss.backward()\n",
    "        nn.utils.clip_grad_norm_(model.parameters(), clip)\n",
    "        optimizer.step()\n",
    "        \n",
    "        el+=loss.item()\n",
    "    return el/len(iterator)"
   ]
  },
  {
   "cell_type": "code",
   "execution_count": 12,
   "metadata": {},
   "outputs": [],
   "source": [
    "def evaluate(model, iterator, criterion):\n",
    "    model.eval()\n",
    "    el = 0\n",
    "    with torch.no_grad():\n",
    "        for batch in tqdm(iterator):\n",
    "            src = batch.src\n",
    "            trg = batch.trg\n",
    "            output,_ = model(src, trg[:,:-1])\n",
    "            output_dim = output.shape[-1]\n",
    "            output = output.contiguous().view(-1, output_dim)\n",
    "            trg = trg[:,1:].contiguous().view(-1)\n",
    "            loss = criterion(output, trg)\n",
    "            el+=loss.item()\n",
    "    return el/len(iterator)"
   ]
  },
  {
   "cell_type": "code",
   "execution_count": 13,
   "metadata": {},
   "outputs": [],
   "source": [
    "torch_utils.clear_cuda()"
   ]
  },
  {
   "cell_type": "code",
   "execution_count": 14,
   "metadata": {},
   "outputs": [
    {
     "data": {
      "text/plain": [
       "37351685"
      ]
     },
     "execution_count": 14,
     "metadata": {},
     "output_type": "execute_result"
    }
   ],
   "source": [
    "INPUT_DIM = len(SRC.vocab)\n",
    "OUTPUT_DIM = len(TRG.vocab)\n",
    "EMB_DIM = 256\n",
    "HID_DIM = 512\n",
    "ENC_LAYERS = 10\n",
    "DEC_LAYERS = 10\n",
    "ENC_KERNEL_SIZE = 3\n",
    "DEC_KERNEL_SIZE = 3\n",
    "DEC_DROPOUT = 0.25\n",
    "ENC_DROPOUT = 0.25\n",
    "TRG_PAD_IDX = TRG.vocab.stoi[TRG.pad_token]\n",
    "\n",
    "\n",
    "enc = Encoder(INPUT_DIM, EMB_DIM, HID_DIM, ENC_LAYERS, ENC_KERNEL_SIZE, ENC_DROPOUT, device)\n",
    "dec = Decoder(OUTPUT_DIM, EMB_DIM, HID_DIM, DEC_LAYERS, DEC_KERNEL_SIZE, DEC_DROPOUT, TRG_PAD_IDX, device)\n",
    "\n",
    "model = Seq2Seq(enc, dec).to(device)\n",
    "torch_utils.count_model_params(model)"
   ]
  },
  {
   "cell_type": "code",
   "execution_count": 15,
   "metadata": {},
   "outputs": [],
   "source": [
    "optimizer = torch_utils.RAdam(model.parameters())\n",
    "criterion = nn.CrossEntropyLoss(ignore_index=TRG_PAD_IDX)\n",
    "clip = 1\n",
    "n_epochs = 50\n",
    "ea = torch_utils.EarlyStopping(patience=5, verbose=True, save_model_name=\"CONV_SEQ2SEQ.pt\")\n",
    "history = pd.DataFrame()"
   ]
  },
  {
   "cell_type": "code",
   "execution_count": 16,
   "metadata": {
    "scrolled": true
   },
   "outputs": [
    {
     "data": {
      "application/vnd.jupyter.widget-view+json": {
       "model_id": "d5ef7e9dcd464b63aaf7e815a67c0577",
       "version_major": 2,
       "version_minor": 0
      },
      "text/plain": [
       "HBox(children=(IntProgress(value=0, max=194), HTML(value='')))"
      ]
     },
     "metadata": {},
     "output_type": "display_data"
    },
    {
     "name": "stdout",
     "output_type": "stream",
     "text": [
      "\n"
     ]
    },
    {
     "data": {
      "application/vnd.jupyter.widget-view+json": {
       "model_id": "03fbd9289b8f41f3967802a0ecf390ef",
       "version_major": 2,
       "version_minor": 0
      },
      "text/plain": [
       "HBox(children=(IntProgress(value=0, max=7), HTML(value='')))"
      ]
     },
     "metadata": {},
     "output_type": "display_data"
    },
    {
     "name": "stdout",
     "output_type": "stream",
     "text": [
      "\n",
      "Found better solution (inf --> 76.761877).  Saving model ...\n",
      "\n",
      "\n",
      "EPOCH 1 Completed, Time Taken: 0:00:43.406811\n",
      "\tTrain Loss \t5.25786514\n",
      "\tValid Loss \t4.34070812\n",
      "\t\tTPL\t\t192.07100789283214\n",
      "\t\tVPL\t\t76.76187668129084\n"
     ]
    },
    {
     "data": {
      "application/vnd.jupyter.widget-view+json": {
       "model_id": "bde40eee300043f1a8ac1f0864b10d70",
       "version_major": 2,
       "version_minor": 0
      },
      "text/plain": [
       "HBox(children=(IntProgress(value=0, max=194), HTML(value='')))"
      ]
     },
     "metadata": {},
     "output_type": "display_data"
    },
    {
     "name": "stdout",
     "output_type": "stream",
     "text": [
      "\n"
     ]
    },
    {
     "data": {
      "application/vnd.jupyter.widget-view+json": {
       "model_id": "3e48871cf88d43deae6b6b7f196ad024",
       "version_major": 2,
       "version_minor": 0
      },
      "text/plain": [
       "HBox(children=(IntProgress(value=0, max=7), HTML(value='')))"
      ]
     },
     "metadata": {},
     "output_type": "display_data"
    },
    {
     "name": "stdout",
     "output_type": "stream",
     "text": [
      "\n",
      "Found better solution (76.761877 --> 29.627161).  Saving model ...\n",
      "\n",
      "\n",
      "EPOCH 2 Completed, Time Taken: 0:00:44.946920\n",
      "\tTrain Loss \t3.77635045\n",
      "\tValid Loss \t3.38869153\n",
      "\t\tTPL\t\t43.65642419427848\n",
      "\t\tVPL\t\t29.627160572191823\n"
     ]
    },
    {
     "data": {
      "application/vnd.jupyter.widget-view+json": {
       "model_id": "30deed4f59e1425cb596ef38943af93e",
       "version_major": 2,
       "version_minor": 0
      },
      "text/plain": [
       "HBox(children=(IntProgress(value=0, max=194), HTML(value='')))"
      ]
     },
     "metadata": {},
     "output_type": "display_data"
    },
    {
     "name": "stdout",
     "output_type": "stream",
     "text": [
      "\n"
     ]
    },
    {
     "data": {
      "application/vnd.jupyter.widget-view+json": {
       "model_id": "43b5fab7c65342c293ca5047abb99d4c",
       "version_major": 2,
       "version_minor": 0
      },
      "text/plain": [
       "HBox(children=(IntProgress(value=0, max=7), HTML(value='')))"
      ]
     },
     "metadata": {},
     "output_type": "display_data"
    },
    {
     "name": "stdout",
     "output_type": "stream",
     "text": [
      "\n",
      "Found better solution (29.627161 --> 16.592813).  Saving model ...\n",
      "\n",
      "\n",
      "EPOCH 3 Completed, Time Taken: 0:00:44.333252\n",
      "\tTrain Loss \t3.20838361\n",
      "\tValid Loss \t2.80896967\n",
      "\t\tTPL\t\t24.739066015600745\n",
      "\t\tVPL\t\t16.59281330157562\n"
     ]
    },
    {
     "data": {
      "application/vnd.jupyter.widget-view+json": {
       "model_id": "62fd907f3e594517b36ebda01f9c3aaa",
       "version_major": 2,
       "version_minor": 0
      },
      "text/plain": [
       "HBox(children=(IntProgress(value=0, max=194), HTML(value='')))"
      ]
     },
     "metadata": {},
     "output_type": "display_data"
    },
    {
     "name": "stdout",
     "output_type": "stream",
     "text": [
      "\n"
     ]
    },
    {
     "data": {
      "application/vnd.jupyter.widget-view+json": {
       "model_id": "dc904ee3f9314d9eaf274e1e3fe2ceff",
       "version_major": 2,
       "version_minor": 0
      },
      "text/plain": [
       "HBox(children=(IntProgress(value=0, max=7), HTML(value='')))"
      ]
     },
     "metadata": {},
     "output_type": "display_data"
    },
    {
     "name": "stdout",
     "output_type": "stream",
     "text": [
      "\n",
      "Found better solution (16.592813 --> 12.420879).  Saving model ...\n",
      "\n",
      "\n",
      "EPOCH 4 Completed, Time Taken: 0:00:43.485921\n",
      "\tTrain Loss \t2.82040775\n",
      "\tValid Loss \t2.51937883\n",
      "\t\tTPL\t\t16.783692777389106\n",
      "\t\tVPL\t\t12.420878819406065\n"
     ]
    },
    {
     "data": {
      "application/vnd.jupyter.widget-view+json": {
       "model_id": "f2767bb68ca948b0843208b17bb3d5a8",
       "version_major": 2,
       "version_minor": 0
      },
      "text/plain": [
       "HBox(children=(IntProgress(value=0, max=194), HTML(value='')))"
      ]
     },
     "metadata": {},
     "output_type": "display_data"
    },
    {
     "name": "stdout",
     "output_type": "stream",
     "text": [
      "\n"
     ]
    },
    {
     "data": {
      "application/vnd.jupyter.widget-view+json": {
       "model_id": "d267636be97f427b8975e479715e89bd",
       "version_major": 2,
       "version_minor": 0
      },
      "text/plain": [
       "HBox(children=(IntProgress(value=0, max=7), HTML(value='')))"
      ]
     },
     "metadata": {},
     "output_type": "display_data"
    },
    {
     "name": "stdout",
     "output_type": "stream",
     "text": [
      "\n",
      "Found better solution (12.420879 --> 9.673391).  Saving model ...\n",
      "\n",
      "\n",
      "EPOCH 5 Completed, Time Taken: 0:00:45.640852\n",
      "\tTrain Loss \t2.56207893\n",
      "\tValid Loss \t2.2693789\n",
      "\t\tTPL\t\t12.962737892530084\n",
      "\t\tVPL\t\t9.673390809935901\n"
     ]
    },
    {
     "data": {
      "application/vnd.jupyter.widget-view+json": {
       "model_id": "56e248b8fde5438c87a090a8e206c710",
       "version_major": 2,
       "version_minor": 0
      },
      "text/plain": [
       "HBox(children=(IntProgress(value=0, max=194), HTML(value='')))"
      ]
     },
     "metadata": {},
     "output_type": "display_data"
    },
    {
     "name": "stdout",
     "output_type": "stream",
     "text": [
      "\n"
     ]
    },
    {
     "data": {
      "application/vnd.jupyter.widget-view+json": {
       "model_id": "f008566975c04c83b6c04784925b7602",
       "version_major": 2,
       "version_minor": 0
      },
      "text/plain": [
       "HBox(children=(IntProgress(value=0, max=7), HTML(value='')))"
      ]
     },
     "metadata": {},
     "output_type": "display_data"
    },
    {
     "name": "stdout",
     "output_type": "stream",
     "text": [
      "\n",
      "Found better solution (9.673391 --> 8.215999).  Saving model ...\n",
      "\n",
      "\n",
      "EPOCH 6 Completed, Time Taken: 0:00:44.374917\n",
      "\tTrain Loss \t2.36959805\n",
      "\tValid Loss \t2.10608329\n",
      "\t\tTPL\t\t10.693093286320993\n",
      "\t\tVPL\t\t8.215998507081256\n"
     ]
    },
    {
     "data": {
      "application/vnd.jupyter.widget-view+json": {
       "model_id": "d470e5eec4e8459a868ac133910003d2",
       "version_major": 2,
       "version_minor": 0
      },
      "text/plain": [
       "HBox(children=(IntProgress(value=0, max=194), HTML(value='')))"
      ]
     },
     "metadata": {},
     "output_type": "display_data"
    },
    {
     "name": "stdout",
     "output_type": "stream",
     "text": [
      "\n"
     ]
    },
    {
     "data": {
      "application/vnd.jupyter.widget-view+json": {
       "model_id": "e64e8f9e539f46df9526e6a72f3497b2",
       "version_major": 2,
       "version_minor": 0
      },
      "text/plain": [
       "HBox(children=(IntProgress(value=0, max=7), HTML(value='')))"
      ]
     },
     "metadata": {},
     "output_type": "display_data"
    },
    {
     "name": "stdout",
     "output_type": "stream",
     "text": [
      "\n",
      "Found better solution (8.215999 --> 7.243209).  Saving model ...\n",
      "\n",
      "\n",
      "EPOCH 7 Completed, Time Taken: 0:00:45.973304\n",
      "\tTrain Loss \t2.22358339\n",
      "\tValid Loss \t1.98006432\n",
      "\t\tTPL\t\t9.240383529014006\n",
      "\t\tVPL\t\t7.243208882129327\n"
     ]
    },
    {
     "data": {
      "application/vnd.jupyter.widget-view+json": {
       "model_id": "b87161f4c867454cba50f2c016d5aab0",
       "version_major": 2,
       "version_minor": 0
      },
      "text/plain": [
       "HBox(children=(IntProgress(value=0, max=194), HTML(value='')))"
      ]
     },
     "metadata": {},
     "output_type": "display_data"
    },
    {
     "name": "stdout",
     "output_type": "stream",
     "text": [
      "\n"
     ]
    },
    {
     "data": {
      "application/vnd.jupyter.widget-view+json": {
       "model_id": "e462f0dfa09f466a9b961e8ad6e471ad",
       "version_major": 2,
       "version_minor": 0
      },
      "text/plain": [
       "HBox(children=(IntProgress(value=0, max=7), HTML(value='')))"
      ]
     },
     "metadata": {},
     "output_type": "display_data"
    },
    {
     "name": "stdout",
     "output_type": "stream",
     "text": [
      "\n",
      "Found better solution (7.243209 --> 6.711323).  Saving model ...\n",
      "\n",
      "\n",
      "EPOCH 8 Completed, Time Taken: 0:00:44.530915\n",
      "\tTrain Loss \t2.10997769\n",
      "\tValid Loss \t1.90379603\n",
      "\t\tTPL\t\t8.248057265121064\n",
      "\t\tVPL\t\t6.7113225015573175\n"
     ]
    },
    {
     "data": {
      "application/vnd.jupyter.widget-view+json": {
       "model_id": "19d20fc805814887b271e93825af5885",
       "version_major": 2,
       "version_minor": 0
      },
      "text/plain": [
       "HBox(children=(IntProgress(value=0, max=194), HTML(value='')))"
      ]
     },
     "metadata": {},
     "output_type": "display_data"
    },
    {
     "name": "stdout",
     "output_type": "stream",
     "text": [
      "\n"
     ]
    },
    {
     "data": {
      "application/vnd.jupyter.widget-view+json": {
       "model_id": "9fcce76bb38a496da023eea3720e1bde",
       "version_major": 2,
       "version_minor": 0
      },
      "text/plain": [
       "HBox(children=(IntProgress(value=0, max=7), HTML(value='')))"
      ]
     },
     "metadata": {},
     "output_type": "display_data"
    },
    {
     "name": "stdout",
     "output_type": "stream",
     "text": [
      "\n",
      "Found better solution (6.711323 --> 6.456398).  Saving model ...\n",
      "\n",
      "\n",
      "EPOCH 9 Completed, Time Taken: 0:00:45.215912\n",
      "\tTrain Loss \t2.02106518\n",
      "\tValid Loss \t1.86507155\n",
      "\t\tTPL\t\t7.546358901957769\n",
      "\t\tVPL\t\t6.4563978385486225\n"
     ]
    },
    {
     "data": {
      "application/vnd.jupyter.widget-view+json": {
       "model_id": "47e6227c312a4eb6b37e56eb63fd8061",
       "version_major": 2,
       "version_minor": 0
      },
      "text/plain": [
       "HBox(children=(IntProgress(value=0, max=194), HTML(value='')))"
      ]
     },
     "metadata": {},
     "output_type": "display_data"
    },
    {
     "name": "stdout",
     "output_type": "stream",
     "text": [
      "\n"
     ]
    },
    {
     "data": {
      "application/vnd.jupyter.widget-view+json": {
       "model_id": "9148f3ec8cc64043a8ca92c84d0c9334",
       "version_major": 2,
       "version_minor": 0
      },
      "text/plain": [
       "HBox(children=(IntProgress(value=0, max=7), HTML(value='')))"
      ]
     },
     "metadata": {},
     "output_type": "display_data"
    },
    {
     "name": "stdout",
     "output_type": "stream",
     "text": [
      "\n",
      "Found better solution (6.456398 --> 6.278736).  Saving model ...\n",
      "\n",
      "\n",
      "EPOCH 10 Completed, Time Taken: 0:00:44.711310\n",
      "\tTrain Loss \t1.94385941\n",
      "\tValid Loss \t1.83716871\n",
      "\t\tTPL\t\t6.985659557656762\n",
      "\t\tVPL\t\t6.2787361521710015\n"
     ]
    },
    {
     "data": {
      "application/vnd.jupyter.widget-view+json": {
       "model_id": "5a3d8298ae0d4db38ee0641d71a5fcd7",
       "version_major": 2,
       "version_minor": 0
      },
      "text/plain": [
       "HBox(children=(IntProgress(value=0, max=194), HTML(value='')))"
      ]
     },
     "metadata": {},
     "output_type": "display_data"
    },
    {
     "name": "stdout",
     "output_type": "stream",
     "text": [
      "\n"
     ]
    },
    {
     "data": {
      "application/vnd.jupyter.widget-view+json": {
       "model_id": "f43cfd0ed1944e2d9f7fa452d10b7bf5",
       "version_major": 2,
       "version_minor": 0
      },
      "text/plain": [
       "HBox(children=(IntProgress(value=0, max=7), HTML(value='')))"
      ]
     },
     "metadata": {},
     "output_type": "display_data"
    },
    {
     "name": "stdout",
     "output_type": "stream",
     "text": [
      "\n",
      "Found better solution (6.278736 --> 6.087907).  Saving model ...\n",
      "\n",
      "\n",
      "EPOCH 11 Completed, Time Taken: 0:00:44.683562\n",
      "\tTrain Loss \t1.88682739\n",
      "\tValid Loss \t1.80630432\n",
      "\t\tTPL\t\t6.598401285487674\n",
      "\t\tVPL\t\t6.0879068421665465\n"
     ]
    },
    {
     "data": {
      "application/vnd.jupyter.widget-view+json": {
       "model_id": "d532037078af460496b06144c6827346",
       "version_major": 2,
       "version_minor": 0
      },
      "text/plain": [
       "HBox(children=(IntProgress(value=0, max=194), HTML(value='')))"
      ]
     },
     "metadata": {},
     "output_type": "display_data"
    },
    {
     "name": "stdout",
     "output_type": "stream",
     "text": [
      "\n"
     ]
    },
    {
     "data": {
      "application/vnd.jupyter.widget-view+json": {
       "model_id": "fdaa1226897e4e1499597c50ada75715",
       "version_major": 2,
       "version_minor": 0
      },
      "text/plain": [
       "HBox(children=(IntProgress(value=0, max=7), HTML(value='')))"
      ]
     },
     "metadata": {},
     "output_type": "display_data"
    },
    {
     "name": "stdout",
     "output_type": "stream",
     "text": [
      "\n",
      "Found better solution (6.087907 --> 5.913901).  Saving model ...\n",
      "\n",
      "\n",
      "EPOCH 12 Completed, Time Taken: 0:00:44.549621\n",
      "\tTrain Loss \t1.83977356\n",
      "\tValid Loss \t1.77730574\n",
      "\t\tTPL\t\t6.295112659464675\n",
      "\t\tVPL\t\t5.913901342506474\n"
     ]
    },
    {
     "data": {
      "application/vnd.jupyter.widget-view+json": {
       "model_id": "22c584fbb27d42b2b5f7fad1ad77c3d4",
       "version_major": 2,
       "version_minor": 0
      },
      "text/plain": [
       "HBox(children=(IntProgress(value=0, max=194), HTML(value='')))"
      ]
     },
     "metadata": {},
     "output_type": "display_data"
    },
    {
     "name": "stdout",
     "output_type": "stream",
     "text": [
      "\n"
     ]
    },
    {
     "data": {
      "application/vnd.jupyter.widget-view+json": {
       "model_id": "70a5f5805b07470b8c6a9adb29c4d9ea",
       "version_major": 2,
       "version_minor": 0
      },
      "text/plain": [
       "HBox(children=(IntProgress(value=0, max=7), HTML(value='')))"
      ]
     },
     "metadata": {},
     "output_type": "display_data"
    },
    {
     "name": "stdout",
     "output_type": "stream",
     "text": [
      "\n",
      "Found better solution (5.913901 --> 5.764649).  Saving model ...\n",
      "\n",
      "\n",
      "EPOCH 13 Completed, Time Taken: 0:00:44.984743\n",
      "\tTrain Loss \t1.79222936\n",
      "\tValid Loss \t1.75174432\n",
      "\t\tTPL\t\t6.002819999221296\n",
      "\t\tVPL\t\t5.764649312419013\n"
     ]
    },
    {
     "data": {
      "application/vnd.jupyter.widget-view+json": {
       "model_id": "4c11aea499514bdc8aa5cd6cd8959c76",
       "version_major": 2,
       "version_minor": 0
      },
      "text/plain": [
       "HBox(children=(IntProgress(value=0, max=194), HTML(value='')))"
      ]
     },
     "metadata": {},
     "output_type": "display_data"
    },
    {
     "name": "stdout",
     "output_type": "stream",
     "text": [
      "\n"
     ]
    },
    {
     "data": {
      "application/vnd.jupyter.widget-view+json": {
       "model_id": "da2fff96b81a4f44aa512e1c7085e165",
       "version_major": 2,
       "version_minor": 0
      },
      "text/plain": [
       "HBox(children=(IntProgress(value=0, max=7), HTML(value='')))"
      ]
     },
     "metadata": {},
     "output_type": "display_data"
    },
    {
     "name": "stdout",
     "output_type": "stream",
     "text": [
      "\n",
      "Found better solution (5.764649 --> 5.749224).  Saving model ...\n",
      "\n",
      "\n",
      "EPOCH 14 Completed, Time Taken: 0:00:44.870945\n",
      "\tTrain Loss \t1.75794725\n",
      "\tValid Loss \t1.74906491\n",
      "\t\tTPL\t\t5.800518123552298\n",
      "\t\tVPL\t\t5.749224092693566\n"
     ]
    },
    {
     "data": {
      "application/vnd.jupyter.widget-view+json": {
       "model_id": "6e26361912a247089b8eaf46fc8df5c1",
       "version_major": 2,
       "version_minor": 0
      },
      "text/plain": [
       "HBox(children=(IntProgress(value=0, max=194), HTML(value='')))"
      ]
     },
     "metadata": {},
     "output_type": "display_data"
    },
    {
     "name": "stdout",
     "output_type": "stream",
     "text": [
      "\n"
     ]
    },
    {
     "data": {
      "application/vnd.jupyter.widget-view+json": {
       "model_id": "48da85aceab248f59de6920a311b09b2",
       "version_major": 2,
       "version_minor": 0
      },
      "text/plain": [
       "HBox(children=(IntProgress(value=0, max=7), HTML(value='')))"
      ]
     },
     "metadata": {},
     "output_type": "display_data"
    },
    {
     "name": "stdout",
     "output_type": "stream",
     "text": [
      "\n",
      "Found better solution (5.749224 --> 5.744068).  Saving model ...\n",
      "\n",
      "\n",
      "EPOCH 15 Completed, Time Taken: 0:00:44.328849\n",
      "\tTrain Loss \t1.72929745\n",
      "\tValid Loss \t1.74816769\n",
      "\t\tTPL\t\t5.636692485938396\n",
      "\t\tVPL\t\t5.744068086069402\n"
     ]
    },
    {
     "data": {
      "application/vnd.jupyter.widget-view+json": {
       "model_id": "665c49df3b2741e88e82ad0e708a97bf",
       "version_major": 2,
       "version_minor": 0
      },
      "text/plain": [
       "HBox(children=(IntProgress(value=0, max=194), HTML(value='')))"
      ]
     },
     "metadata": {},
     "output_type": "display_data"
    },
    {
     "name": "stdout",
     "output_type": "stream",
     "text": [
      "\n"
     ]
    },
    {
     "data": {
      "application/vnd.jupyter.widget-view+json": {
       "model_id": "0fc9488c0a544c15bcf350fe429a6300",
       "version_major": 2,
       "version_minor": 0
      },
      "text/plain": [
       "HBox(children=(IntProgress(value=0, max=7), HTML(value='')))"
      ]
     },
     "metadata": {},
     "output_type": "display_data"
    },
    {
     "name": "stdout",
     "output_type": "stream",
     "text": [
      "\n",
      "Found better solution (5.744068 --> 5.654664).  Saving model ...\n",
      "\n",
      "\n",
      "EPOCH 16 Completed, Time Taken: 0:00:43.943028\n",
      "\tTrain Loss \t1.70044248\n",
      "\tValid Loss \t1.73248071\n",
      "\t\tTPL\t\t5.476370030137328\n",
      "\t\tVPL\t\t5.654664124075255\n"
     ]
    },
    {
     "data": {
      "application/vnd.jupyter.widget-view+json": {
       "model_id": "dfae9cac0ec5441fbd654673efad7a18",
       "version_major": 2,
       "version_minor": 0
      },
      "text/plain": [
       "HBox(children=(IntProgress(value=0, max=194), HTML(value='')))"
      ]
     },
     "metadata": {},
     "output_type": "display_data"
    },
    {
     "name": "stdout",
     "output_type": "stream",
     "text": [
      "\n"
     ]
    },
    {
     "data": {
      "application/vnd.jupyter.widget-view+json": {
       "model_id": "ede289fd027d4feab132febb927a03cd",
       "version_major": 2,
       "version_minor": 0
      },
      "text/plain": [
       "HBox(children=(IntProgress(value=0, max=7), HTML(value='')))"
      ]
     },
     "metadata": {},
     "output_type": "display_data"
    },
    {
     "name": "stdout",
     "output_type": "stream",
     "text": [
      "\n",
      "Found better solution (5.654664 --> 5.597564).  Saving model ...\n",
      "\n",
      "\n",
      "EPOCH 17 Completed, Time Taken: 0:00:43.041304\n",
      "\tTrain Loss \t1.67678184\n",
      "\tValid Loss \t1.72233144\n",
      "\t\tTPL\t\t5.348316533994793\n",
      "\t\tVPL\t\t5.59756363976662\n"
     ]
    },
    {
     "data": {
      "application/vnd.jupyter.widget-view+json": {
       "model_id": "bb34e71386704b9099ee862821819253",
       "version_major": 2,
       "version_minor": 0
      },
      "text/plain": [
       "HBox(children=(IntProgress(value=0, max=194), HTML(value='')))"
      ]
     },
     "metadata": {},
     "output_type": "display_data"
    },
    {
     "name": "stdout",
     "output_type": "stream",
     "text": [
      "\n"
     ]
    },
    {
     "data": {
      "application/vnd.jupyter.widget-view+json": {
       "model_id": "13ccd7b4066b4ba1b5db00088ee7e9e3",
       "version_major": 2,
       "version_minor": 0
      },
      "text/plain": [
       "HBox(children=(IntProgress(value=0, max=7), HTML(value='')))"
      ]
     },
     "metadata": {},
     "output_type": "display_data"
    },
    {
     "name": "stdout",
     "output_type": "stream",
     "text": [
      "\n",
      "Found better solution (5.597564 --> 5.533924).  Saving model ...\n",
      "\n",
      "\n",
      "EPOCH 18 Completed, Time Taken: 0:00:43.154055\n",
      "\tTrain Loss \t1.65235981\n",
      "\tValid Loss \t1.71089717\n",
      "\t\tTPL\t\t5.219281842545957\n",
      "\t\tVPL\t\t5.533924139538169\n"
     ]
    },
    {
     "data": {
      "application/vnd.jupyter.widget-view+json": {
       "model_id": "18f2a8541d0a41cebfd5f01550a02096",
       "version_major": 2,
       "version_minor": 0
      },
      "text/plain": [
       "HBox(children=(IntProgress(value=0, max=194), HTML(value='')))"
      ]
     },
     "metadata": {},
     "output_type": "display_data"
    },
    {
     "name": "stdout",
     "output_type": "stream",
     "text": [
      "\n"
     ]
    },
    {
     "data": {
      "application/vnd.jupyter.widget-view+json": {
       "model_id": "a63d667195504b9581455fabb548873c",
       "version_major": 2,
       "version_minor": 0
      },
      "text/plain": [
       "HBox(children=(IntProgress(value=0, max=7), HTML(value='')))"
      ]
     },
     "metadata": {},
     "output_type": "display_data"
    },
    {
     "name": "stdout",
     "output_type": "stream",
     "text": [
      "\n",
      "Found better solution (5.533924 --> 5.491159).  Saving model ...\n",
      "\n",
      "\n",
      "EPOCH 19 Completed, Time Taken: 0:00:42.921600\n",
      "\tTrain Loss \t1.63517041\n",
      "\tValid Loss \t1.70313927\n",
      "\t\tTPL\t\t5.130332169705801\n",
      "\t\tVPL\t\t5.491158597515707\n"
     ]
    },
    {
     "data": {
      "application/vnd.jupyter.widget-view+json": {
       "model_id": "2efc32a5febf4f6ca1e0a73e6d5d9d20",
       "version_major": 2,
       "version_minor": 0
      },
      "text/plain": [
       "HBox(children=(IntProgress(value=0, max=194), HTML(value='')))"
      ]
     },
     "metadata": {},
     "output_type": "display_data"
    },
    {
     "name": "stdout",
     "output_type": "stream",
     "text": [
      "\n"
     ]
    },
    {
     "data": {
      "application/vnd.jupyter.widget-view+json": {
       "model_id": "a750b0f0ef4d4a9b9380d59f72730eb5",
       "version_major": 2,
       "version_minor": 0
      },
      "text/plain": [
       "HBox(children=(IntProgress(value=0, max=7), HTML(value='')))"
      ]
     },
     "metadata": {},
     "output_type": "display_data"
    },
    {
     "name": "stdout",
     "output_type": "stream",
     "text": [
      "\n",
      "EarlyStopping counter: 1 out of 5\n",
      "\n",
      "\n",
      "EPOCH 20 Completed, Time Taken: 0:00:41.586191\n",
      "\tTrain Loss \t1.61594724\n",
      "\tValid Loss \t1.70474463\n",
      "\t\tTPL\t\t5.032652813917368\n",
      "\t\tVPL\t\t5.499980949458083\n"
     ]
    },
    {
     "data": {
      "application/vnd.jupyter.widget-view+json": {
       "model_id": "bd96d27824ba47b78c3ec2c4a8a78df1",
       "version_major": 2,
       "version_minor": 0
      },
      "text/plain": [
       "HBox(children=(IntProgress(value=0, max=194), HTML(value='')))"
      ]
     },
     "metadata": {},
     "output_type": "display_data"
    },
    {
     "name": "stdout",
     "output_type": "stream",
     "text": [
      "\n"
     ]
    },
    {
     "data": {
      "application/vnd.jupyter.widget-view+json": {
       "model_id": "4774aa03aaa247288a4e41442c466964",
       "version_major": 2,
       "version_minor": 0
      },
      "text/plain": [
       "HBox(children=(IntProgress(value=0, max=7), HTML(value='')))"
      ]
     },
     "metadata": {},
     "output_type": "display_data"
    },
    {
     "name": "stdout",
     "output_type": "stream",
     "text": [
      "\n",
      "EarlyStopping counter: 2 out of 5\n",
      "\n",
      "\n",
      "EPOCH 21 Completed, Time Taken: 0:00:41.531370\n",
      "\tTrain Loss \t1.599376\n",
      "\tValid Loss \t1.70423186\n",
      "\t\tTPL\t\t4.9499426844867065\n",
      "\t\tVPL\t\t5.497161445824902\n"
     ]
    },
    {
     "data": {
      "application/vnd.jupyter.widget-view+json": {
       "model_id": "a5197cab79d24259badb9a3669a23a4f",
       "version_major": 2,
       "version_minor": 0
      },
      "text/plain": [
       "HBox(children=(IntProgress(value=0, max=194), HTML(value='')))"
      ]
     },
     "metadata": {},
     "output_type": "display_data"
    },
    {
     "name": "stdout",
     "output_type": "stream",
     "text": [
      "\n"
     ]
    },
    {
     "data": {
      "application/vnd.jupyter.widget-view+json": {
       "model_id": "6b0bb45626384d9dbe76d24faa15dc0a",
       "version_major": 2,
       "version_minor": 0
      },
      "text/plain": [
       "HBox(children=(IntProgress(value=0, max=7), HTML(value='')))"
      ]
     },
     "metadata": {},
     "output_type": "display_data"
    },
    {
     "name": "stdout",
     "output_type": "stream",
     "text": [
      "\n",
      "Found better solution (5.491159 --> 5.470190).  Saving model ...\n",
      "\n",
      "\n",
      "EPOCH 22 Completed, Time Taken: 0:00:43.316785\n",
      "\tTrain Loss \t1.58471505\n",
      "\tValid Loss \t1.69931335\n",
      "\t\tTPL\t\t4.877901204062915\n",
      "\t\tVPL\t\t5.470190001847984\n"
     ]
    },
    {
     "data": {
      "application/vnd.jupyter.widget-view+json": {
       "model_id": "418485c3c06448f3993a7234a6f353f2",
       "version_major": 2,
       "version_minor": 0
      },
      "text/plain": [
       "HBox(children=(IntProgress(value=0, max=194), HTML(value='')))"
      ]
     },
     "metadata": {},
     "output_type": "display_data"
    },
    {
     "name": "stdout",
     "output_type": "stream",
     "text": [
      "\n"
     ]
    },
    {
     "data": {
      "application/vnd.jupyter.widget-view+json": {
       "model_id": "cc31b70aa048445b87cd0b2f886128c6",
       "version_major": 2,
       "version_minor": 0
      },
      "text/plain": [
       "HBox(children=(IntProgress(value=0, max=7), HTML(value='')))"
      ]
     },
     "metadata": {},
     "output_type": "display_data"
    },
    {
     "name": "stdout",
     "output_type": "stream",
     "text": [
      "\n",
      "Found better solution (5.470190 --> 5.462437).  Saving model ...\n",
      "\n",
      "\n",
      "EPOCH 23 Completed, Time Taken: 0:00:43.072351\n",
      "\tTrain Loss \t1.56790534\n",
      "\tValid Loss \t1.6978951\n",
      "\t\tTPL\t\t4.796590458159523\n",
      "\t\tVPL\t\t5.462437404024256\n"
     ]
    },
    {
     "data": {
      "application/vnd.jupyter.widget-view+json": {
       "model_id": "866197a4c4b34001bad7376a5b886f8a",
       "version_major": 2,
       "version_minor": 0
      },
      "text/plain": [
       "HBox(children=(IntProgress(value=0, max=194), HTML(value='')))"
      ]
     },
     "metadata": {},
     "output_type": "display_data"
    },
    {
     "name": "stdout",
     "output_type": "stream",
     "text": [
      "\n"
     ]
    },
    {
     "data": {
      "application/vnd.jupyter.widget-view+json": {
       "model_id": "bada11fb283a40b9b463ee48b4c57e86",
       "version_major": 2,
       "version_minor": 0
      },
      "text/plain": [
       "HBox(children=(IntProgress(value=0, max=7), HTML(value='')))"
      ]
     },
     "metadata": {},
     "output_type": "display_data"
    },
    {
     "name": "stdout",
     "output_type": "stream",
     "text": [
      "\n",
      "EarlyStopping counter: 1 out of 5\n",
      "\n",
      "\n",
      "EPOCH 24 Completed, Time Taken: 0:00:41.686441\n",
      "\tTrain Loss \t1.55658699\n",
      "\tValid Loss \t1.704422\n",
      "\t\tTPL\t\t4.742607005800818\n",
      "\t\tVPL\t\t5.498206768973257\n"
     ]
    },
    {
     "data": {
      "application/vnd.jupyter.widget-view+json": {
       "model_id": "42f2c1ec7441467c9c08dbdff05766cb",
       "version_major": 2,
       "version_minor": 0
      },
      "text/plain": [
       "HBox(children=(IntProgress(value=0, max=194), HTML(value='')))"
      ]
     },
     "metadata": {},
     "output_type": "display_data"
    },
    {
     "name": "stdout",
     "output_type": "stream",
     "text": [
      "\n"
     ]
    },
    {
     "data": {
      "application/vnd.jupyter.widget-view+json": {
       "model_id": "44e1ed2df10448ba89da7421983ac0f6",
       "version_major": 2,
       "version_minor": 0
      },
      "text/plain": [
       "HBox(children=(IntProgress(value=0, max=7), HTML(value='')))"
      ]
     },
     "metadata": {},
     "output_type": "display_data"
    },
    {
     "name": "stdout",
     "output_type": "stream",
     "text": [
      "\n",
      "Found better solution (5.462437 --> 5.441186).  Saving model ...\n",
      "\n",
      "\n",
      "EPOCH 25 Completed, Time Taken: 0:00:43.182495\n",
      "\tTrain Loss \t1.539233\n",
      "\tValid Loss \t1.69399709\n",
      "\t\tTPL\t\t4.661013907729095\n",
      "\t\tVPL\t\t5.441186227427541\n"
     ]
    },
    {
     "data": {
      "application/vnd.jupyter.widget-view+json": {
       "model_id": "d5d2bb093df3454a829d2d99b06537c1",
       "version_major": 2,
       "version_minor": 0
      },
      "text/plain": [
       "HBox(children=(IntProgress(value=0, max=194), HTML(value='')))"
      ]
     },
     "metadata": {},
     "output_type": "display_data"
    },
    {
     "name": "stdout",
     "output_type": "stream",
     "text": [
      "\n"
     ]
    },
    {
     "data": {
      "application/vnd.jupyter.widget-view+json": {
       "model_id": "e0476fa1a0744d8dbb438afac15682f1",
       "version_major": 2,
       "version_minor": 0
      },
      "text/plain": [
       "HBox(children=(IntProgress(value=0, max=7), HTML(value='')))"
      ]
     },
     "metadata": {},
     "output_type": "display_data"
    },
    {
     "name": "stdout",
     "output_type": "stream",
     "text": [
      "\n",
      "Found better solution (5.441186 --> 5.393391).  Saving model ...\n",
      "\n",
      "\n",
      "EPOCH 26 Completed, Time Taken: 0:00:43.043581\n",
      "\tTrain Loss \t1.53081476\n",
      "\tValid Loss \t1.68517423\n",
      "\t\tTPL\t\t4.621941081771344\n",
      "\t\tVPL\t\t5.3933905234571515\n"
     ]
    },
    {
     "data": {
      "application/vnd.jupyter.widget-view+json": {
       "model_id": "5a49004f736d4e0aaf9d182ba3e56226",
       "version_major": 2,
       "version_minor": 0
      },
      "text/plain": [
       "HBox(children=(IntProgress(value=0, max=194), HTML(value='')))"
      ]
     },
     "metadata": {},
     "output_type": "display_data"
    },
    {
     "name": "stdout",
     "output_type": "stream",
     "text": [
      "\n"
     ]
    },
    {
     "data": {
      "application/vnd.jupyter.widget-view+json": {
       "model_id": "e11d105d755c4a4d9dc52f295c15119f",
       "version_major": 2,
       "version_minor": 0
      },
      "text/plain": [
       "HBox(children=(IntProgress(value=0, max=7), HTML(value='')))"
      ]
     },
     "metadata": {},
     "output_type": "display_data"
    },
    {
     "name": "stdout",
     "output_type": "stream",
     "text": [
      "\n",
      "EarlyStopping counter: 1 out of 5\n",
      "\n",
      "\n",
      "EPOCH 27 Completed, Time Taken: 0:00:41.739813\n",
      "\tTrain Loss \t1.52323722\n",
      "\tValid Loss \t1.69686966\n",
      "\t\tTPL\t\t4.5870504820693725\n",
      "\t\tVPL\t\t5.4568388824110565\n"
     ]
    },
    {
     "data": {
      "application/vnd.jupyter.widget-view+json": {
       "model_id": "0343dd303dfc42bcb0adb8c0d75895a3",
       "version_major": 2,
       "version_minor": 0
      },
      "text/plain": [
       "HBox(children=(IntProgress(value=0, max=194), HTML(value='')))"
      ]
     },
     "metadata": {},
     "output_type": "display_data"
    },
    {
     "name": "stdout",
     "output_type": "stream",
     "text": [
      "\n"
     ]
    },
    {
     "data": {
      "application/vnd.jupyter.widget-view+json": {
       "model_id": "8874955c6ec54905bc4fad4b55be9807",
       "version_major": 2,
       "version_minor": 0
      },
      "text/plain": [
       "HBox(children=(IntProgress(value=0, max=7), HTML(value='')))"
      ]
     },
     "metadata": {},
     "output_type": "display_data"
    },
    {
     "name": "stdout",
     "output_type": "stream",
     "text": [
      "\n",
      "EarlyStopping counter: 2 out of 5\n",
      "\n",
      "\n",
      "EPOCH 28 Completed, Time Taken: 0:00:43.023058\n",
      "\tTrain Loss \t1.50837066\n",
      "\tValid Loss \t1.6947443\n",
      "\t\tTPL\t\t4.519361213457115\n",
      "\t\tVPL\t\t5.445253421921988\n"
     ]
    },
    {
     "data": {
      "application/vnd.jupyter.widget-view+json": {
       "model_id": "d3b3aacd967a43bba50010e8df5eef2a",
       "version_major": 2,
       "version_minor": 0
      },
      "text/plain": [
       "HBox(children=(IntProgress(value=0, max=194), HTML(value='')))"
      ]
     },
     "metadata": {},
     "output_type": "display_data"
    },
    {
     "name": "stdout",
     "output_type": "stream",
     "text": [
      "\n"
     ]
    },
    {
     "data": {
      "application/vnd.jupyter.widget-view+json": {
       "model_id": "03e28d04ea3443d5a5ff23948c1c0114",
       "version_major": 2,
       "version_minor": 0
      },
      "text/plain": [
       "HBox(children=(IntProgress(value=0, max=7), HTML(value='')))"
      ]
     },
     "metadata": {},
     "output_type": "display_data"
    },
    {
     "name": "stdout",
     "output_type": "stream",
     "text": [
      "\n",
      "Found better solution (5.393391 --> 5.362787).  Saving model ...\n",
      "\n",
      "\n",
      "EPOCH 29 Completed, Time Taken: 0:00:45.050528\n",
      "\tTrain Loss \t1.49792188\n",
      "\tValid Loss \t1.67948387\n",
      "\t\tTPL\t\t4.472385274125363\n",
      "\t\tVPL\t\t5.36278738005015\n"
     ]
    },
    {
     "data": {
      "application/vnd.jupyter.widget-view+json": {
       "model_id": "6111a8379ee94a2881061b50a69f5fd2",
       "version_major": 2,
       "version_minor": 0
      },
      "text/plain": [
       "HBox(children=(IntProgress(value=0, max=194), HTML(value='')))"
      ]
     },
     "metadata": {},
     "output_type": "display_data"
    },
    {
     "name": "stdout",
     "output_type": "stream",
     "text": [
      "\n"
     ]
    },
    {
     "data": {
      "application/vnd.jupyter.widget-view+json": {
       "model_id": "4bfbe5bd10b24a59a82152cf1ea99d6f",
       "version_major": 2,
       "version_minor": 0
      },
      "text/plain": [
       "HBox(children=(IntProgress(value=0, max=7), HTML(value='')))"
      ]
     },
     "metadata": {},
     "output_type": "display_data"
    },
    {
     "name": "stdout",
     "output_type": "stream",
     "text": [
      "\n",
      "EarlyStopping counter: 1 out of 5\n",
      "\n",
      "\n",
      "EPOCH 30 Completed, Time Taken: 0:00:44.246634\n",
      "\tTrain Loss \t1.48608781\n",
      "\tValid Loss \t1.68276014\n",
      "\t\tTPL\t\t4.419770651009952\n",
      "\t\tVPL\t\t5.380386094997114\n"
     ]
    },
    {
     "data": {
      "application/vnd.jupyter.widget-view+json": {
       "model_id": "13d0b6eb486c4a92aaed7fb67cfb676a",
       "version_major": 2,
       "version_minor": 0
      },
      "text/plain": [
       "HBox(children=(IntProgress(value=0, max=194), HTML(value='')))"
      ]
     },
     "metadata": {},
     "output_type": "display_data"
    },
    {
     "name": "stdout",
     "output_type": "stream",
     "text": [
      "\n"
     ]
    },
    {
     "data": {
      "application/vnd.jupyter.widget-view+json": {
       "model_id": "eb111e9bd530491b86c3e0daa015c63a",
       "version_major": 2,
       "version_minor": 0
      },
      "text/plain": [
       "HBox(children=(IntProgress(value=0, max=7), HTML(value='')))"
      ]
     },
     "metadata": {},
     "output_type": "display_data"
    },
    {
     "name": "stdout",
     "output_type": "stream",
     "text": [
      "\n",
      "EarlyStopping counter: 2 out of 5\n",
      "\n",
      "\n",
      "EPOCH 31 Completed, Time Taken: 0:00:43.669583\n",
      "\tTrain Loss \t1.47676282\n",
      "\tValid Loss \t1.68544945\n",
      "\t\tTPL\t\t4.3787479318874345\n",
      "\t\tVPL\t\t5.394875097703584\n"
     ]
    },
    {
     "data": {
      "application/vnd.jupyter.widget-view+json": {
       "model_id": "0d6007ed361f4fc08d920b1b619c00a4",
       "version_major": 2,
       "version_minor": 0
      },
      "text/plain": [
       "HBox(children=(IntProgress(value=0, max=194), HTML(value='')))"
      ]
     },
     "metadata": {},
     "output_type": "display_data"
    },
    {
     "name": "stdout",
     "output_type": "stream",
     "text": [
      "\n"
     ]
    },
    {
     "data": {
      "application/vnd.jupyter.widget-view+json": {
       "model_id": "dc71a4ab039f452cafc8bfe35bf25ac4",
       "version_major": 2,
       "version_minor": 0
      },
      "text/plain": [
       "HBox(children=(IntProgress(value=0, max=7), HTML(value='')))"
      ]
     },
     "metadata": {},
     "output_type": "display_data"
    },
    {
     "name": "stdout",
     "output_type": "stream",
     "text": [
      "\n",
      "EarlyStopping counter: 3 out of 5\n",
      "\n",
      "\n",
      "EPOCH 32 Completed, Time Taken: 0:00:43.990112\n",
      "\tTrain Loss \t1.46593349\n",
      "\tValid Loss \t1.68176694\n",
      "\t\tTPL\t\t4.331584836956496\n",
      "\t\tVPL\t\t5.375044944559229\n"
     ]
    },
    {
     "data": {
      "application/vnd.jupyter.widget-view+json": {
       "model_id": "af0cdd45c70940c1900d75b74fa70624",
       "version_major": 2,
       "version_minor": 0
      },
      "text/plain": [
       "HBox(children=(IntProgress(value=0, max=194), HTML(value='')))"
      ]
     },
     "metadata": {},
     "output_type": "display_data"
    },
    {
     "name": "stdout",
     "output_type": "stream",
     "text": [
      "\n"
     ]
    },
    {
     "data": {
      "application/vnd.jupyter.widget-view+json": {
       "model_id": "119d8024c13240abbc37b2105eb3f4f2",
       "version_major": 2,
       "version_minor": 0
      },
      "text/plain": [
       "HBox(children=(IntProgress(value=0, max=7), HTML(value='')))"
      ]
     },
     "metadata": {},
     "output_type": "display_data"
    },
    {
     "name": "stdout",
     "output_type": "stream",
     "text": [
      "\n",
      "EarlyStopping counter: 4 out of 5\n",
      "\n",
      "\n",
      "EPOCH 33 Completed, Time Taken: 0:00:43.583488\n",
      "\tTrain Loss \t1.45501879\n",
      "\tValid Loss \t1.68786798\n",
      "\t\tTPL\t\t4.284563988080762\n",
      "\t\tVPL\t\t5.407938583349117\n"
     ]
    },
    {
     "data": {
      "application/vnd.jupyter.widget-view+json": {
       "model_id": "07a52d71d18942759b492a272f17218e",
       "version_major": 2,
       "version_minor": 0
      },
      "text/plain": [
       "HBox(children=(IntProgress(value=0, max=194), HTML(value='')))"
      ]
     },
     "metadata": {},
     "output_type": "display_data"
    },
    {
     "name": "stdout",
     "output_type": "stream",
     "text": [
      "\n"
     ]
    },
    {
     "data": {
      "application/vnd.jupyter.widget-view+json": {
       "model_id": "1fc0856bde7d40589d545666ef945a47",
       "version_major": 2,
       "version_minor": 0
      },
      "text/plain": [
       "HBox(children=(IntProgress(value=0, max=7), HTML(value='')))"
      ]
     },
     "metadata": {},
     "output_type": "display_data"
    },
    {
     "name": "stdout",
     "output_type": "stream",
     "text": [
      "\n",
      "EarlyStopping counter: 5 out of 5\n",
      "\n",
      "\n",
      "EPOCH 34 Completed, Time Taken: 0:00:43.871029\n",
      "\tTrain Loss \t1.44792365\n",
      "\tValid Loss \t1.68947557\n",
      "\t\tTPL\t\t4.25427196160712\n",
      "\t\tVPL\t\t5.416639314186455\n",
      "STOPPING EARLY...\n"
     ]
    }
   ],
   "source": [
    "for e in range(n_epochs):\n",
    "    st = time.time()\n",
    "    tl = train(model, train_iterator, optimizer, criterion, clip)\n",
    "    vl = evaluate(model, valid_iterator, criterion)\n",
    "    TPL, VPL = np.exp(tl), np.exp(vl)\n",
    "    ea(VPL, model)\n",
    "    torch_utils.print_epoch_stat(e, time.time()-st, history, tl,valid_loss=vl)\n",
    "    print(f\"\\t\\tTPL\\t\\t{TPL}\")\n",
    "    print(f\"\\t\\tVPL\\t\\t{VPL}\")\n",
    "    history.loc[e, \"TPL\"] = TPL\n",
    "    history.loc[e, \"VPL\"] = VPL\n",
    "    if ea.early_stop:\n",
    "        print(\"STOPPING EARLY...\")\n",
    "        break"
   ]
  },
  {
   "cell_type": "code",
   "execution_count": 17,
   "metadata": {},
   "outputs": [
    {
     "data": {
      "text/plain": [
       "<matplotlib.axes._subplots.AxesSubplot at 0x7fd014f4ce90>"
      ]
     },
     "execution_count": 17,
     "metadata": {},
     "output_type": "execute_result"
    },
    {
     "data": {
      "image/png": "[encoded data removed]",
      "text/plain": [
       "<Figure size 432x288 with 1 Axes>"
      ]
     },
     "metadata": {
      "needs_background": "light"
     },
     "output_type": "display_data"
    }
   ],
   "source": [
    "ax = history[\"train_loss\"].plot()\n",
    "history[\"valid_loss\"].plot(ax=ax)"
   ]
  },
  {
   "cell_type": "code",
   "execution_count": 18,
   "metadata": {},
   "outputs": [
    {
     "data": {
      "text/plain": [
       "<matplotlib.axes._subplots.AxesSubplot at 0x7fd00c74bdd0>"
      ]
     },
     "execution_count": 18,
     "metadata": {},
     "output_type": "execute_result"
    },
    {
     "data": {
      "image/png": "[encoded data removed]",
      "text/plain": [
       "<Figure size 432x288 with 1 Axes>"
      ]
     },
     "metadata": {
      "needs_background": "light"
     },
     "output_type": "display_data"
    }
   ],
   "source": [
    "ax = history.loc[5:,\"TPL\"].plot()\n",
    "history.loc[5:,\"VPL\"].plot(ax=ax)"
   ]
  },
  {
   "cell_type": "code",
   "execution_count": 19,
   "metadata": {},
   "outputs": [
    {
     "data": {
      "text/plain": [
       "<All keys matched successfully>"
      ]
     },
     "execution_count": 19,
     "metadata": {},
     "output_type": "execute_result"
    }
   ],
   "source": [
    "model.load_state_dict(torch.load(ea.save_model_name, map_location=device))"
   ]
  },
  {
   "cell_type": "code",
   "execution_count": 20,
   "metadata": {},
   "outputs": [
    {
     "data": {
      "application/vnd.jupyter.widget-view+json": {
       "model_id": "3daaff1c90f542059a2d12fcb3433e79",
       "version_major": 2,
       "version_minor": 0
      },
      "text/plain": [
       "HBox(children=(IntProgress(value=0, max=7), HTML(value='')))"
      ]
     },
     "metadata": {},
     "output_type": "display_data"
    },
    {
     "name": "stdout",
     "output_type": "stream",
     "text": [
      "\n",
      "TEST LOSS: 1.76276 TEST Perplexity: 5.82852\n"
     ]
    }
   ],
   "source": [
    "test_loss = evaluate(model, test_iterator, criterion)\n",
    "\n",
    "print(f\"TEST LOSS: {test_loss:.5f} TEST Perplexity: {np.exp(test_loss):.5f}\")"
   ]
  },
  {
   "cell_type": "code",
   "execution_count": 21,
   "metadata": {},
   "outputs": [],
   "source": [
    "def translate_sentence(sentence, src_field, trg_field, model, device, max_len=50):\n",
    "    model.eval()\n",
    "    \n",
    "    if isinstance(sentence, str):\n",
    "        nlp = spacy.load(\"de\")\n",
    "        tokens = [token.text.lower() for token in nlp(sentence)]\n",
    "    else:\n",
    "        tokens = [token.lower() for token in sentence]\n",
    "    \n",
    "    tokens = [src_field.init_token]+tokens+[src_field.eos_token]\n",
    "    src_indexes = [src_field.vocab.stoi[token] for token in tokens]\n",
    "    src_tensor = torch.LongTensor(src_indexes).unsqueeze(dim=0).to(device)\n",
    "    \n",
    "    with torch.no_grad():\n",
    "        encoder_conved, encoder_combined = model.encoder(src_tensor)\n",
    "    \n",
    "    trg_indexes = [trg_field.vocab.stoi[trg_field.init_token]]\n",
    "    \n",
    "    for i in range(max_len):\n",
    "        trg_tensor = torch.LongTensor(trg_indexes).unsqueeze(dim=0).to(device)\n",
    "        with torch.no_grad():\n",
    "            output, attention = model.decoder(trg_tensor, encoder_conved, encoder_combined)\n",
    "        pred_token = output.argmax(dim=2)[:, -1].item()\n",
    "        trg_indexes.append(pred_token)\n",
    "        \n",
    "        if pred_token == trg_field.vocab.stoi[trg_field.eos_token]:\n",
    "            break\n",
    "    \n",
    "    trg_tokens = [trg_field.vocab.itos[i] for i in trg_indexes]\n",
    "    \n",
    "    return trg_tokens[1:], attention"
   ]
  },
  {
   "cell_type": "code",
   "execution_count": 22,
   "metadata": {},
   "outputs": [],
   "source": [
    "def display_attention(sentence, translation, attention):\n",
    "    fig = plt.figure(figsize=(10,10))\n",
    "    ax = fig.add_subplot(111)\n",
    "    \n",
    "    attention = attention.squeeze(dim=0).cpu().detach().numpy()\n",
    "    cax = ax.matshow(attention, cmap=\"bone\")\n",
    "    \n",
    "    ax.tick_params(labelsize=10)\n",
    "    ax.set_xticklabels([\"\"]+[\"<sos>\"]+[t.lower() for t in sentence]+[\"<eos>\"], rotation=45)\n",
    "    ax.set_yticklabels([\"\"]+translation)\n",
    "    \n",
    "    ax.xaxis.set_major_locator(matplotlib.ticker.MultipleLocator(1))\n",
    "    ax.yaxis.set_major_locator(matplotlib.ticker.MultipleLocator(1))\n",
    "    \n",
    "    plt.show()\n",
    "    plt.close()"
   ]
  },
  {
   "cell_type": "code",
   "execution_count": 23,
   "metadata": {},
   "outputs": [
    {
     "name": "stdout",
     "output_type": "stream",
     "text": [
      "src == ['ein', 'kleines', 'mädchen', 'klettert', 'in', 'ein', 'spielhaus', 'aus', 'holz', '.']\n",
      "trg == ['a', 'little', 'girl', 'climbing', 'into', 'a', 'wooden', 'playhouse', '.']\n",
      "predicted == ['a', 'little', 'girl', 'climbs', 'out', 'of', 'wood', '.', '<eos>']\n"
     ]
    },
    {
     "data": {
      "image/png": "[encoded data removed]",
      "text/plain": [
       "<Figure size 720x720 with 1 Axes>"
      ]
     },
     "metadata": {
      "needs_background": "light"
     },
     "output_type": "display_data"
    }
   ],
   "source": [
    "example_idx = 2\n",
    "src = vars(train_data.examples[example_idx])[\"src\"]\n",
    "trg = vars(train_data.examples[example_idx])[\"trg\"]\n",
    "\n",
    "print(f'src == {src}')\n",
    "print(f'trg == {trg}')\n",
    "translation, attention = translate_sentence(src, SRC, TRG, model, device)\n",
    "print(f\"predicted == {translation}\")\n",
    "display_attention(src, translation, attention)"
   ]
  },
  {
   "cell_type": "code",
   "execution_count": 24,
   "metadata": {},
   "outputs": [
    {
     "name": "stdout",
     "output_type": "stream",
     "text": [
      "src == ['ein', 'kind', 'in', 'einem', 'roten', 'sweatshirt', 'hängt', 'kopfüber', 'an', 'einem', 'baum', '.']\n",
      "trg == ['a', 'child', 'wearing', 'a', 'red', 'sweatshirt', 'is', 'hanging', 'upside', 'down', 'from', 'a', 'tree', '.']\n",
      "predicted == ['a', 'child', 'in', 'a', 'red', 'sweatshirt', 'is', 'hanging', 'upside', 'down', 'from', 'a', 'tree', '.', '<eos>']\n"
     ]
    },
    {
     "data": {
      "image/png": "[encoded data removed]",
      "text/plain": [
       "<Figure size 720x720 with 1 Axes>"
      ]
     },
     "metadata": {
      "needs_background": "light"
     },
     "output_type": "display_data"
    }
   ],
   "source": [
    "example_idx = 234\n",
    "src = vars(valid_data.examples[example_idx])[\"src\"]\n",
    "trg = vars(valid_data.examples[example_idx])[\"trg\"]\n",
    "\n",
    "print(f'src == {src}')\n",
    "print(f'trg == {trg}')\n",
    "translation, attention = translate_sentence(src, SRC, TRG, model, device)\n",
    "print(f\"predicted == {translation}\")\n",
    "display_attention(src, translation, attention)"
   ]
  },
  {
   "cell_type": "code",
   "execution_count": 25,
   "metadata": {},
   "outputs": [
    {
     "name": "stdout",
     "output_type": "stream",
     "text": [
      "src == ['ein', 'mann', 'in', 'einer', 'weste', 'sitzt', 'auf', 'einem', 'stuhl', 'und', 'hält', 'magazine', '.']\n",
      "trg == ['a', 'man', 'in', 'a', 'vest', 'is', 'sitting', 'in', 'a', 'chair', 'and', 'holding', 'magazines', '.']\n",
      "predicted == ['a', 'man', 'in', 'a', 'vest', 'is', 'sitting', 'on', 'a', 'chair', 'holding', '<unk>', '.', '<eos>']\n"
     ]
    },
    {
     "data": {
      "image/png": "[encoded data removed]",
      "text/plain": [
       "<Figure size 720x720 with 1 Axes>"
      ]
     },
     "metadata": {
      "needs_background": "light"
     },
     "output_type": "display_data"
    }
   ],
   "source": [
    "example_idx = 9\n",
    "src = vars(test_data.examples[example_idx])[\"src\"]\n",
    "trg = vars(test_data.examples[example_idx])[\"trg\"]\n",
    "\n",
    "print(f'src == {src}')\n",
    "print(f'trg == {trg}')\n",
    "translation, attention = translate_sentence(src, SRC, TRG, model, device)\n",
    "print(f\"predicted == {translation}\")\n",
    "display_attention(src, translation, attention)"
   ]
  },
  {
   "cell_type": "code",
   "execution_count": 26,
   "metadata": {},
   "outputs": [],
   "source": [
    "def calculate_bleu(data, src_field, trg_field, model, device, max_len=50):\n",
    "    trgs = []\n",
    "    preds = []\n",
    "    \n",
    "    for d in tqdm(data):\n",
    "        pred, _ = translate_sentence(vars(d)[\"src\"],src_field, trg_field, model, device, max_len)\n",
    "        pred = pred[:-1]\n",
    "        preds.append(pred)\n",
    "        trgs.append([vars(d)[\"trg\"]])\n",
    "    return torch_utils.bleu_score(preds, trgs)"
   ]
  },
  {
   "cell_type": "code",
   "execution_count": 27,
   "metadata": {},
   "outputs": [
    {
     "data": {
      "application/vnd.jupyter.widget-view+json": {
       "model_id": "aa29bfd740c54f47b464ea23f6cdc4d2",
       "version_major": 2,
       "version_minor": 0
      },
      "text/plain": [
       "HBox(children=(IntProgress(value=0, max=1000), HTML(value='')))"
      ]
     },
     "metadata": {},
     "output_type": "display_data"
    },
    {
     "name": "stdout",
     "output_type": "stream",
     "text": [
      "\n"
     ]
    },
    {
     "data": {
      "text/plain": [
       "37.176697438751965"
      ]
     },
     "execution_count": 27,
     "metadata": {},
     "output_type": "execute_result"
    }
   ],
   "source": [
    "100.0*calculate_bleu(test_data, SRC, TRG, model, device)"
   ]
  },
  {
   "cell_type": "code",
   "execution_count": 28,
   "metadata": {},
   "outputs": [
    {
     "data": {
      "application/vnd.jupyter.widget-view+json": {
       "model_id": "8183ac1e8d2b40ca97a3f6f9bed3bcad",
       "version_major": 2,
       "version_minor": 0
      },
      "text/plain": [
       "HBox(children=(IntProgress(value=0, max=1014), HTML(value='')))"
      ]
     },
     "metadata": {},
     "output_type": "display_data"
    },
    {
     "name": "stdout",
     "output_type": "stream",
     "text": [
      "\n"
     ]
    },
    {
     "data": {
      "text/plain": [
       "36.869325242602386"
      ]
     },
     "execution_count": 28,
     "metadata": {},
     "output_type": "execute_result"
    }
   ],
   "source": [
    "100.0*calculate_bleu(valid_data, SRC, TRG, model, device)"
   ]
  },
  {
   "cell_type": "code",
   "execution_count": 29,
   "metadata": {},
   "outputs": [
    {
     "data": {
      "application/vnd.jupyter.widget-view+json": {
       "model_id": "98900ecb6f7c4c7db60a9d1f2ae5b37c",
       "version_major": 2,
       "version_minor": 0
      },
      "text/plain": [
       "HBox(children=(IntProgress(value=0, max=500), HTML(value='')))"
      ]
     },
     "metadata": {},
     "output_type": "display_data"
    },
    {
     "name": "stdout",
     "output_type": "stream",
     "text": [
      "\n"
     ]
    },
    {
     "data": {
      "text/plain": [
       "47.970866900878015"
      ]
     },
     "execution_count": 29,
     "metadata": {},
     "output_type": "execute_result"
    }
   ],
   "source": [
    "100.0*calculate_bleu(train_data[:500], SRC, TRG, model, device)"
   ]
  },
  {
   "cell_type": "code",
   "execution_count": 30,
   "metadata": {},
   "outputs": [
    {
     "data": {
      "application/vnd.jupyter.widget-view+json": {
       "model_id": "01f8fc3d2653452a9a10515a8a853a74",
       "version_major": 2,
       "version_minor": 0
      },
      "text/plain": [
       "HBox(children=(IntProgress(value=0, max=500), HTML(value='')))"
      ]
     },
     "metadata": {},
     "output_type": "display_data"
    },
    {
     "name": "stdout",
     "output_type": "stream",
     "text": [
      "\n"
     ]
    },
    {
     "data": {
      "text/plain": [
       "43.838256980591915"
      ]
     },
     "execution_count": 30,
     "metadata": {},
     "output_type": "execute_result"
    }
   ],
   "source": [
    "100.0*calculate_bleu(train_data[-500:], SRC, TRG, model, device)"
   ]
  },
  {
   "cell_type": "code",
   "execution_count": null,
   "metadata": {},
   "outputs": [],
   "source": []
  }
 ],
 "metadata": {
  "kernelspec": {
   "display_name": "Python 3",
   "language": "python",
   "name": "python3"
  },
  "language_info": {
   "codemirror_mode": {
    "name": "ipython",
    "version": 3
   },
   "file_extension": ".py",
   "mimetype": "text/x-python",
   "name": "python",
   "nbconvert_exporter": "python",
   "pygments_lexer": "ipython3",
   "version": "3.7.5"
  }
 },
 "nbformat": 4,
 "nbformat_minor": 2
}
