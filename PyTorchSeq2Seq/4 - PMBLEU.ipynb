{
 "cells": [
  {
   "cell_type": "code",
   "execution_count": 1,
   "metadata": {},
   "outputs": [],
   "source": [
    "## ALL IMPORTS FOR A NEW NOTEBOOK\n",
    "\n",
    "import os, sys, random, math\n",
    "import numpy as np\n",
    "import pandas as pd\n",
    "import matplotlib.pylab as plt\n",
    "import seaborn as sns\n",
    "import itertools as it\n",
    "import scipy\n",
    "import glob\n",
    "import matplotlib\n",
    "import torch\n",
    "import torch.nn as nn\n",
    "import torch.optim as optim\n",
    "import torch.nn.functional as F\n",
    "from torch.utils.data import Dataset,DataLoader\n",
    "from torch.optim import Optimizer\n",
    "import torchvision.transforms.transforms as txf\n",
    "import torch.optim.lr_scheduler as lr_scheduler\n",
    "from collections import OrderedDict\n",
    "\n",
    "from sklearn import metrics\n",
    "from sklearn import preprocessing as pp\n",
    "from sklearn import model_selection as ms\n",
    "\n",
    "import torch_utils\n",
    "from tqdm.notebook import tqdm_notebook as tqdm\n",
    "import time\n",
    "import spacy\n",
    "import torchtext\n",
    "from torchtext import data, datasets\n",
    "\n",
    "font = {'size'   : 20}\n",
    "\n",
    "matplotlib.rc('font', **font)\n",
    "\n",
    "device = torch.device(\"cuda\" if torch.cuda.is_available() else \"cpu\")"
   ]
  },
  {
   "cell_type": "code",
   "execution_count": 2,
   "metadata": {},
   "outputs": [],
   "source": [
    "SEED = 947\n",
    "torch_utils.seed_everything(SEED)"
   ]
  },
  {
   "cell_type": "code",
   "execution_count": 3,
   "metadata": {},
   "outputs": [],
   "source": [
    "spacy_de = spacy.load(\"de\")\n",
    "spacy_en = spacy.load(\"en\")"
   ]
  },
  {
   "cell_type": "code",
   "execution_count": 4,
   "metadata": {},
   "outputs": [],
   "source": [
    "def tokenize_de(txt):\n",
    "    return [tok.text for tok in spacy_de.tokenizer(txt)]\n",
    "def tokenize_en(txt):\n",
    "    return [tok.text for tok in spacy_en.tokenizer(txt)]"
   ]
  },
  {
   "cell_type": "code",
   "execution_count": 5,
   "metadata": {},
   "outputs": [],
   "source": [
    "SRC = data.Field(tokenize=tokenize_de, init_token=\"<sos>\", eos_token=\"<eos>\", lower=True, include_lengths=True)\n",
    "TRG = data.Field(tokenize=tokenize_en, init_token=\"<sos>\", eos_token=\"<eos>\", lower=True)"
   ]
  },
  {
   "cell_type": "code",
   "execution_count": 6,
   "metadata": {},
   "outputs": [],
   "source": [
    "train_data, valid_data, test_data = datasets.Multi30k.splits(exts=(\".de\", \".en\"), fields=(SRC, TRG))"
   ]
  },
  {
   "cell_type": "code",
   "execution_count": 7,
   "metadata": {},
   "outputs": [
    {
     "name": "stderr",
     "output_type": "stream",
     "text": [
      "100%|█████████▉| 399912/400000 [00:42<00:00, 9407.29it/s] "
     ]
    }
   ],
   "source": [
    "SRC.build_vocab(train_data, min_freq=2)\n",
    "TRG.build_vocab(train_data, min_freq=2, vectors=\"glove.6B.300d\", unk_init=torch.Tensor.normal_)"
   ]
  },
  {
   "cell_type": "code",
   "execution_count": 8,
   "metadata": {},
   "outputs": [],
   "source": [
    "BATCH_SIZE = 164\n",
    "\n",
    "train_iterator, valid_iterator, test_iterator = data.BucketIterator.splits(\n",
    "    (train_data, valid_data, test_data),\n",
    "    batch_size=BATCH_SIZE,\n",
    "    sort_within_batch=True,\n",
    "    sort_key=lambda x : len(x.src),\n",
    "    device=device\n",
    ")"
   ]
  },
  {
   "cell_type": "code",
   "execution_count": 9,
   "metadata": {},
   "outputs": [],
   "source": [
    "class Encoder(nn.Module):\n",
    "    def __init__(self, input_dim, emb_dim, enc_hid_dim, dec_hid_dim, dropout):\n",
    "        super(Encoder, self).__init__()\n",
    "        \n",
    "        self.embedding = nn.Embedding(input_dim, emb_dim)\n",
    "        self.rnn = nn.GRU(emb_dim, enc_hid_dim, bidirectional=True)\n",
    "        self.fc = nn.Linear(2*enc_hid_dim, dec_hid_dim)\n",
    "        self.dropout = nn.Dropout(dropout)\n",
    "\n",
    "        \n",
    "    def forward(self, txt, txt_len):\n",
    "        # txt -- len(src) X batch_size\n",
    "        # txt_len -- batch_size\n",
    "        embedded = self.dropout(self.embedding(txt))\n",
    "        # embedded -- len(src) X batch_size X emb_dim\n",
    "        \n",
    "        packed_embedded = nn.utils.rnn.pack_padded_sequence(embedded, txt_len)\n",
    "        #packed_embedded -- embedded\n",
    "        \n",
    "        packed_outputs, hidden = self.rnn(packed_embedded)\n",
    "        \n",
    "        outputs, _ = nn.utils.rnn.pad_packed_sequence(packed_outputs)\n",
    "        \n",
    "        hidden = torch.tanh(self.fc(torch.cat((hidden[-2,:,:], hidden[-1,:,:]), dim=1)))\n",
    "        \n",
    "        return outputs, hidden"
   ]
  },
  {
   "cell_type": "code",
   "execution_count": 10,
   "metadata": {},
   "outputs": [],
   "source": [
    "class Attention(nn.Module):\n",
    "    def __init__(self, enc_hid_dim, dec_hid_dim):\n",
    "        super(Attention, self).__init__()\n",
    "        self.attn = nn.Linear((enc_hid_dim*2)+dec_hid_dim, dec_hid_dim)\n",
    "        self.v = nn.Parameter(torch.rand(dec_hid_dim))\n",
    "    \n",
    "    def forward(self, hidden, encoder_outputs, mask):\n",
    "        # hidden -- batch_size X dec_hid_dim\n",
    "        # encoder_outputs -- len(src) X batch_size X enc_hid_dim*2\n",
    "        # mask -- batch_size X len(src)\n",
    "        \n",
    "        batch_size = encoder_outputs.shape[1]\n",
    "        src_len = encoder_outputs.shape[0]\n",
    "        \n",
    "        hidden = hidden.unsqueeze(dim=1).repeat(1,src_len,1)\n",
    "        # hidden -- batch_size X len(src) X dec_hid_dim\n",
    "        encoder_outputs = encoder_outputs.permute(1,0,2)\n",
    "        # encoder_outputs -- batch_size X len(src) X enc_hid_dim*2\n",
    "        \n",
    "        \n",
    "        energy = torch.tanh(self.attn(torch.cat((hidden, encoder_outputs), dim=2)))\n",
    "        # energy -- batch_size X len(src) X dec_hid_dim\n",
    "        v = self.v.repeat(batch_size, 1)\n",
    "        # v -- batch_size X dec_hid_dim\n",
    "        v = v.unsqueeze(dim=1)\n",
    "        # v -- batch_size X 1 X dec_hid_dim\n",
    "        energy = energy.permute(0, 2, 1)\n",
    "        # energy -- batch_size X dec_hid_dim X len(src)\n",
    "        \n",
    "        attention = torch.bmm(v, energy).squeeze(dim=1)\n",
    "        # attention -- batch_size X len(src)\n",
    "        \n",
    "        attention = attention.masked_fill(mask==0, -1e10)\n",
    "        \n",
    "        return F.softmax(attention, dim=1)"
   ]
  },
  {
   "cell_type": "code",
   "execution_count": 11,
   "metadata": {},
   "outputs": [],
   "source": [
    "class Decoder(nn.Module):\n",
    "    def __init__(self, output_dim, emb_dim, enc_hid_dim, dec_hid_dim, dropout, attention):\n",
    "        super(Decoder, self).__init__()\n",
    "        \n",
    "        self.output_dim = output_dim\n",
    "        self.attention = attention\n",
    "        \n",
    "        self.embedding = nn.Embedding(output_dim, emb_dim)\n",
    "        self.rnn = nn.GRU((enc_hid_dim*2)+emb_dim, dec_hid_dim)\n",
    "        self.fc_out = nn.Linear((enc_hid_dim*2)+emb_dim+dec_hid_dim, output_dim)\n",
    "        self.dropout = nn.Dropout(dropout)\n",
    "    \n",
    "    def forward(self, trg, hidden, encoder_outputs, mask):\n",
    "        # trg -- batch_size\n",
    "        # hidden -- batch_size X dec_hid_dim\n",
    "        # encoder_outputs -- len(src) X batch_size X 2*enc_hid_dim\n",
    "        # mask -- batch_size X len(src)\n",
    "        \n",
    "        trg = trg.unsqueeze(dim=0)\n",
    "        embedded = self.dropout(self.embedding(trg))\n",
    "        # embedded -- 1 X batch_size X emb_dim\n",
    "        a = self.attention(hidden, encoder_outputs, mask)\n",
    "        # a -- batch_size X len(src)\n",
    "        a = a.unsqueeze(dim=1)\n",
    "        # a -- batch_size X 1 X len(src)\n",
    "        encoder_outputs = encoder_outputs.permute(1,0,2)\n",
    "        # encoder_outputs -- batch_size X len(src) X 2*enc_hid_dim\n",
    "        weighted_enc_outs = torch.bmm(a, encoder_outputs)\n",
    "        # weighted_enc_outs -- batch_size X 1 X 2*enc_hid_dim\n",
    "        weighted_enc_outs = weighted_enc_outs.permute(1,0,2)\n",
    "        # weighted_enc_outs -- 1 X batch_size X 2*enc_hid_dim\n",
    "        \n",
    "        embedded_weighted_enc_outs = torch.cat((embedded, weighted_enc_outs), dim=2)\n",
    "        # embedded_weighted_enc_outs -- 1 X batch_size X 2*enc_hid_dim + emb_dim\n",
    "        output, hidden = self.rnn(embedded_weighted_enc_outs, hidden.unsqueeze(dim=0))\n",
    "        # output -- 1 X batch_size X dec_hid_dim\n",
    "        # hidden -- (dir*layer=1) X batch_size X dec_hid_dim\n",
    "        assert (output == hidden).all()\n",
    "        \n",
    "        embedded = embedded.squeeze(dim=0)\n",
    "        weighted_enc_outs = weighted_enc_outs.squeeze(dim=0)\n",
    "        output = output.squeeze(dim=0)\n",
    "        \n",
    "        prediction = self.fc_out(torch.cat((output, weighted_enc_outs, embedded), dim=1))\n",
    "        return prediction, hidden.squeeze(dim=0), a.squeeze(dim=1)"
   ]
  },
  {
   "cell_type": "code",
   "execution_count": 12,
   "metadata": {},
   "outputs": [],
   "source": [
    "class Seq2Seq(nn.Module):\n",
    "    def __init__(self, encoder, decoder, src_pad_idx, device):\n",
    "        super(Seq2Seq, self).__init__()\n",
    "        \n",
    "        self.encoder = encoder\n",
    "        self.decoder = decoder\n",
    "        self.src_pad_idx = src_pad_idx\n",
    "        self.device = device\n",
    "    \n",
    "    def create_mask(self, src):\n",
    "        mask = (src!=self.src_pad_idx).permute(1, 0)\n",
    "        return mask\n",
    "    \n",
    "    def forward(self, src, src_len, trg, teacher_forcing_ratio=0.5):\n",
    "        # src -- len(src) X batch_size\n",
    "        # src_len -- batch_size\n",
    "        # trg -- len(trg) X batch_size\n",
    "        \n",
    "        batch_size = src.shape[1]\n",
    "        trg_len = trg.shape[0]\n",
    "        trg_vocab_size = self.decoder.output_dim\n",
    "        \n",
    "        outputs = torch.zeros(trg_len, batch_size, trg_vocab_size).to(self.device)\n",
    "        \n",
    "        encoder_outputs, ht = self.encoder(src, src_len)\n",
    "        \n",
    "        current_input_tokens = trg[0, :]\n",
    "        # current_input_tokens --  1 X batch_size\n",
    "        \n",
    "        mask = self.create_mask(src)\n",
    "        # mask -- batch_size X len(src)\n",
    "        \n",
    "        for t in range(1, trg_len):\n",
    "            ot, ht, at = self.decoder(current_input_tokens, ht, encoder_outputs, mask)\n",
    "            outputs[t] = ot\n",
    "            teacher_force = random.random()<teacher_forcing_ratio\n",
    "            top1 = ot.argmax(1)\n",
    "            current_input_tokens = trg[t] if teacher_force else top1\n",
    "        \n",
    "        return outputs"
   ]
  },
  {
   "cell_type": "code",
   "execution_count": 13,
   "metadata": {},
   "outputs": [],
   "source": [
    "def init_weights(m):\n",
    "    for name, param in m.named_parameters():\n",
    "        if \"weight\" in name:\n",
    "            nn.init.normal_(param.data, mean=0, std=0.01)\n",
    "        else:\n",
    "            nn.init.constant_(param.data, 0)"
   ]
  },
  {
   "cell_type": "code",
   "execution_count": 14,
   "metadata": {},
   "outputs": [],
   "source": [
    "def train(model, iterator, optimizer, criterion, clip):\n",
    "    model.train()\n",
    "    torch_utils.clear_cuda()\n",
    "    l=0\n",
    "    \n",
    "    for batch in tqdm(iterator):\n",
    "        trg = batch.trg\n",
    "        src, src_len = batch.src\n",
    "        \n",
    "        optimizer.zero_grad()\n",
    "        \n",
    "        outputs = model(src, src_len, trg)\n",
    "        output_dim = outputs.shape[-1]\n",
    "        outputs = outputs[1:].view(-1, output_dim)\n",
    "        trg = trg[1:].view(-1)\n",
    "        loss = criterion(outputs, trg)\n",
    "        loss.backward()\n",
    "        nn.utils.clip_grad_norm_(model.parameters(), clip)\n",
    "        optimizer.step()\n",
    "        l+=loss.item()\n",
    "    return l/len(iterator)"
   ]
  },
  {
   "cell_type": "code",
   "execution_count": 15,
   "metadata": {},
   "outputs": [],
   "source": [
    "def evaluate(model, iterator, criterion):\n",
    "    model.eval()\n",
    "    l=0\n",
    "    with torch.no_grad():\n",
    "        for batch in tqdm(iterator):\n",
    "            trg = batch.trg\n",
    "            src, src_len = batch.src\n",
    "            outputs = model(src, src_len, trg, 0)\n",
    "            output_dim = outputs.shape[-1]\n",
    "            outputs = outputs[1:].view(-1, output_dim)\n",
    "            trg = trg[1:].view(-1)\n",
    "            loss = criterion(outputs, trg)\n",
    "            l+=loss.item()\n",
    "    return l/len(iterator)"
   ]
  },
  {
   "cell_type": "code",
   "execution_count": 16,
   "metadata": {
    "scrolled": true
   },
   "outputs": [
    {
     "data": {
      "text/plain": [
       "torch.Size([5893, 300])"
      ]
     },
     "execution_count": 16,
     "metadata": {},
     "output_type": "execute_result"
    }
   ],
   "source": [
    "pretrained_embeddings = TRG.vocab.vectors\n",
    "pretrained_embeddings.shape"
   ]
  },
  {
   "cell_type": "code",
   "execution_count": 51,
   "metadata": {},
   "outputs": [],
   "source": [
    "INP_DIM = len(SRC.vocab)\n",
    "OUT_DIM = len(TRG.vocab)\n",
    "ENC_EMB = 300\n",
    "DEC_EMB = 300\n",
    "ENC_HID = 512\n",
    "DEC_HID = 512\n",
    "ENC_DRP = 0.5\n",
    "DEC_DRP = 0.5\n",
    "PAD_IDX = SRC.vocab.stoi[SRC.pad_token]\n",
    "UNK_IDX = SRC.vocab.stoi[SRC.unk_token]\n",
    "\n",
    "torch_utils.clear_cuda()\n",
    "attn = Attention(ENC_HID, DEC_HID)\n",
    "encd = Encoder(INP_DIM, ENC_EMB, ENC_HID, DEC_HID, ENC_DRP)\n",
    "\n",
    "decd = Decoder(OUT_DIM, DEC_EMB, ENC_HID, DEC_HID, DEC_DRP, attn)\n",
    "# decd.embedding.weight.data.copy_(pretrained_embeddings)\n",
    "# decd.embedding.weight.data[UNK_IDX] = torch.zeros(DEC_EMB)\n",
    "# decd.embedding.weight.data[PAD_IDX] = torch.zeros(DEC_EMB)\n",
    "\n",
    "model = Seq2Seq(encd, decd, PAD_IDX, device).to(device)\n",
    "model = model.apply(init_weights)"
   ]
  },
  {
   "cell_type": "code",
   "execution_count": 52,
   "metadata": {},
   "outputs": [
    {
     "data": {
      "text/plain": [
       "21585873"
      ]
     },
     "execution_count": 52,
     "metadata": {},
     "output_type": "execute_result"
    }
   ],
   "source": [
    "torch_utils.count_model_params(model)"
   ]
  },
  {
   "cell_type": "code",
   "execution_count": 53,
   "metadata": {},
   "outputs": [],
   "source": [
    "TRG_PAD_IDX = TRG.vocab.stoi[TRG.pad_token]\n",
    "criterion = nn.CrossEntropyLoss(ignore_index=TRG_PAD_IDX)\n",
    "optimizer = optim.Adam(model.parameters())\n",
    "N_EPOCHS = 30\n",
    "CLIP = 1\n",
    "checkpt_path = \"PPM_BEST_MODEL.pt\"\n",
    "history = pd.DataFrame()\n",
    "ea = torch_utils.EarlyStopping(patience=3, verbose=True, save_model_name=checkpt_path)\n",
    "TRAIN = True"
   ]
  },
  {
   "cell_type": "code",
   "execution_count": 54,
   "metadata": {
    "scrolled": true
   },
   "outputs": [
    {
     "data": {
      "application/vnd.jupyter.widget-view+json": {
       "model_id": "c768cf15a2924bfc8adca5f7f082b2b0",
       "version_major": 2,
       "version_minor": 0
      },
      "text/plain": [
       "HBox(children=(IntProgress(value=0, max=177), HTML(value='')))"
      ]
     },
     "metadata": {},
     "output_type": "display_data"
    },
    {
     "name": "stdout",
     "output_type": "stream",
     "text": [
      "\n"
     ]
    },
    {
     "data": {
      "application/vnd.jupyter.widget-view+json": {
       "model_id": "54496c3c3311445fa55d56453db73cbc",
       "version_major": 2,
       "version_minor": 0
      },
      "text/plain": [
       "HBox(children=(IntProgress(value=0, max=7), HTML(value='')))"
      ]
     },
     "metadata": {},
     "output_type": "display_data"
    },
    {
     "name": "stdout",
     "output_type": "stream",
     "text": [
      "\n",
      "Found better solution (inf --> 136.354317).  Saving model ...\n",
      "\n",
      "\n",
      "EPOCH 1 Completed, Time Taken: 0:00:36.488981\n",
      "\tTrain Loss \t5.09361003\n",
      "\tValid Loss \t4.91525677\n",
      "\t\tTPL \t\t162.98\n",
      "\t\tVPL \t\t136.35\n"
     ]
    },
    {
     "data": {
      "application/vnd.jupyter.widget-view+json": {
       "model_id": "bf2c24a08e27438caf9a45af7537ed63",
       "version_major": 2,
       "version_minor": 0
      },
      "text/plain": [
       "HBox(children=(IntProgress(value=0, max=177), HTML(value='')))"
      ]
     },
     "metadata": {},
     "output_type": "display_data"
    },
    {
     "name": "stdout",
     "output_type": "stream",
     "text": [
      "\n"
     ]
    },
    {
     "data": {
      "application/vnd.jupyter.widget-view+json": {
       "model_id": "c617465be31c4770868ccd36483dfc91",
       "version_major": 2,
       "version_minor": 0
      },
      "text/plain": [
       "HBox(children=(IntProgress(value=0, max=7), HTML(value='')))"
      ]
     },
     "metadata": {},
     "output_type": "display_data"
    },
    {
     "name": "stdout",
     "output_type": "stream",
     "text": [
      "\n",
      "Found better solution (136.354317 --> 98.757213).  Saving model ...\n",
      "\n",
      "\n",
      "EPOCH 2 Completed, Time Taken: 0:00:36.247598\n",
      "\tTrain Loss \t4.28209592\n",
      "\tValid Loss \t4.59266445\n",
      "\t\tTPL \t\t72.392\n",
      "\t\tVPL \t\t98.757\n"
     ]
    },
    {
     "data": {
      "application/vnd.jupyter.widget-view+json": {
       "model_id": "5a055dc286b64ac68a78b0c544479d05",
       "version_major": 2,
       "version_minor": 0
      },
      "text/plain": [
       "HBox(children=(IntProgress(value=0, max=177), HTML(value='')))"
      ]
     },
     "metadata": {},
     "output_type": "display_data"
    },
    {
     "name": "stdout",
     "output_type": "stream",
     "text": [
      "\n"
     ]
    },
    {
     "data": {
      "application/vnd.jupyter.widget-view+json": {
       "model_id": "60facd8a27564a2c9bc297d38b0a4f92",
       "version_major": 2,
       "version_minor": 0
      },
      "text/plain": [
       "HBox(children=(IntProgress(value=0, max=7), HTML(value='')))"
      ]
     },
     "metadata": {},
     "output_type": "display_data"
    },
    {
     "name": "stdout",
     "output_type": "stream",
     "text": [
      "\n",
      "Found better solution (98.757213 --> 50.533396).  Saving model ...\n",
      "\n",
      "\n",
      "EPOCH 3 Completed, Time Taken: 0:00:36.228536\n",
      "\tTrain Loss \t3.62562825\n",
      "\tValid Loss \t3.92263443\n",
      "\t\tTPL \t\t37.548\n",
      "\t\tVPL \t\t50.533\n"
     ]
    },
    {
     "data": {
      "application/vnd.jupyter.widget-view+json": {
       "model_id": "c6c1ee55fb164647b23a9e7c17054246",
       "version_major": 2,
       "version_minor": 0
      },
      "text/plain": [
       "HBox(children=(IntProgress(value=0, max=177), HTML(value='')))"
      ]
     },
     "metadata": {},
     "output_type": "display_data"
    },
    {
     "name": "stdout",
     "output_type": "stream",
     "text": [
      "\n"
     ]
    },
    {
     "data": {
      "application/vnd.jupyter.widget-view+json": {
       "model_id": "c8ee4ee831164d41a6fb15617f60f0bd",
       "version_major": 2,
       "version_minor": 0
      },
      "text/plain": [
       "HBox(children=(IntProgress(value=0, max=7), HTML(value='')))"
      ]
     },
     "metadata": {},
     "output_type": "display_data"
    },
    {
     "name": "stdout",
     "output_type": "stream",
     "text": [
      "\n",
      "Found better solution (50.533396 --> 39.193842).  Saving model ...\n",
      "\n",
      "\n",
      "EPOCH 4 Completed, Time Taken: 0:00:35.807297\n",
      "\tTrain Loss \t3.07659659\n",
      "\tValid Loss \t3.66851963\n",
      "\t\tTPL \t\t21.684\n",
      "\t\tVPL \t\t39.194\n"
     ]
    },
    {
     "data": {
      "application/vnd.jupyter.widget-view+json": {
       "model_id": "be080982cfb44d5e927299d5a9fe54a0",
       "version_major": 2,
       "version_minor": 0
      },
      "text/plain": [
       "HBox(children=(IntProgress(value=0, max=177), HTML(value='')))"
      ]
     },
     "metadata": {},
     "output_type": "display_data"
    },
    {
     "name": "stdout",
     "output_type": "stream",
     "text": [
      "\n"
     ]
    },
    {
     "data": {
      "application/vnd.jupyter.widget-view+json": {
       "model_id": "12745c0a65cd4b45b63555812698fad6",
       "version_major": 2,
       "version_minor": 0
      },
      "text/plain": [
       "HBox(children=(IntProgress(value=0, max=7), HTML(value='')))"
      ]
     },
     "metadata": {},
     "output_type": "display_data"
    },
    {
     "name": "stdout",
     "output_type": "stream",
     "text": [
      "\n",
      "Found better solution (39.193842 --> 31.196143).  Saving model ...\n",
      "\n",
      "\n",
      "EPOCH 5 Completed, Time Taken: 0:00:36.495778\n",
      "\tTrain Loss \t2.66796457\n",
      "\tValid Loss \t3.44029447\n",
      "\t\tTPL \t\t14.411\n",
      "\t\tVPL \t\t31.196\n"
     ]
    },
    {
     "data": {
      "application/vnd.jupyter.widget-view+json": {
       "model_id": "7953549be21143769c5f4ac3dba84eff",
       "version_major": 2,
       "version_minor": 0
      },
      "text/plain": [
       "HBox(children=(IntProgress(value=0, max=177), HTML(value='')))"
      ]
     },
     "metadata": {},
     "output_type": "display_data"
    },
    {
     "name": "stdout",
     "output_type": "stream",
     "text": [
      "\n"
     ]
    },
    {
     "data": {
      "application/vnd.jupyter.widget-view+json": {
       "model_id": "dd9f16edc9684c12832c8e6256a23bf0",
       "version_major": 2,
       "version_minor": 0
      },
      "text/plain": [
       "HBox(children=(IntProgress(value=0, max=7), HTML(value='')))"
      ]
     },
     "metadata": {},
     "output_type": "display_data"
    },
    {
     "name": "stdout",
     "output_type": "stream",
     "text": [
      "\n",
      "EarlyStopping counter: 1 out of 3\n",
      "\n",
      "\n",
      "EPOCH 6 Completed, Time Taken: 0:00:35.311273\n",
      "\tTrain Loss \t2.3541704\n",
      "\tValid Loss \t3.45170338\n",
      "\t\tTPL \t\t10.529\n",
      "\t\tVPL \t\t31.554\n"
     ]
    },
    {
     "data": {
      "application/vnd.jupyter.widget-view+json": {
       "model_id": "f646e0e701184cccbe98d78f4c78669c",
       "version_major": 2,
       "version_minor": 0
      },
      "text/plain": [
       "HBox(children=(IntProgress(value=0, max=177), HTML(value='')))"
      ]
     },
     "metadata": {},
     "output_type": "display_data"
    },
    {
     "name": "stdout",
     "output_type": "stream",
     "text": [
      "\n"
     ]
    },
    {
     "data": {
      "application/vnd.jupyter.widget-view+json": {
       "model_id": "2757028cc9c04b16a4660343812afb92",
       "version_major": 2,
       "version_minor": 0
      },
      "text/plain": [
       "HBox(children=(IntProgress(value=0, max=7), HTML(value='')))"
      ]
     },
     "metadata": {},
     "output_type": "display_data"
    },
    {
     "name": "stdout",
     "output_type": "stream",
     "text": [
      "\n",
      "Found better solution (31.196143 --> 30.163876).  Saving model ...\n",
      "\n",
      "\n",
      "EPOCH 7 Completed, Time Taken: 0:00:36.368824\n",
      "\tTrain Loss \t2.07991116\n",
      "\tValid Loss \t3.40664506\n",
      "\t\tTPL \t\t8.0038\n",
      "\t\tVPL \t\t30.164\n"
     ]
    },
    {
     "data": {
      "application/vnd.jupyter.widget-view+json": {
       "model_id": "61a477501e08408cada6c9378073ef49",
       "version_major": 2,
       "version_minor": 0
      },
      "text/plain": [
       "HBox(children=(IntProgress(value=0, max=177), HTML(value='')))"
      ]
     },
     "metadata": {},
     "output_type": "display_data"
    },
    {
     "name": "stdout",
     "output_type": "stream",
     "text": [
      "\n"
     ]
    },
    {
     "data": {
      "application/vnd.jupyter.widget-view+json": {
       "model_id": "1259ab01fc874b72ae23ca1acc734f5a",
       "version_major": 2,
       "version_minor": 0
      },
      "text/plain": [
       "HBox(children=(IntProgress(value=0, max=7), HTML(value='')))"
      ]
     },
     "metadata": {},
     "output_type": "display_data"
    },
    {
     "name": "stdout",
     "output_type": "stream",
     "text": [
      "\n",
      "Found better solution (30.163876 --> 28.711736).  Saving model ...\n",
      "\n",
      "\n",
      "EPOCH 8 Completed, Time Taken: 0:00:36.798008\n",
      "\tTrain Loss \t1.90125006\n",
      "\tValid Loss \t3.35730597\n",
      "\t\tTPL \t\t6.6943\n",
      "\t\tVPL \t\t28.712\n"
     ]
    },
    {
     "data": {
      "application/vnd.jupyter.widget-view+json": {
       "model_id": "bb758c4ffa2e496baf1dc894803c3cd3",
       "version_major": 2,
       "version_minor": 0
      },
      "text/plain": [
       "HBox(children=(IntProgress(value=0, max=177), HTML(value='')))"
      ]
     },
     "metadata": {},
     "output_type": "display_data"
    },
    {
     "name": "stdout",
     "output_type": "stream",
     "text": [
      "\n"
     ]
    },
    {
     "data": {
      "application/vnd.jupyter.widget-view+json": {
       "model_id": "4986de6ccc99472b8b4c5a3139878154",
       "version_major": 2,
       "version_minor": 0
      },
      "text/plain": [
       "HBox(children=(IntProgress(value=0, max=7), HTML(value='')))"
      ]
     },
     "metadata": {},
     "output_type": "display_data"
    },
    {
     "name": "stdout",
     "output_type": "stream",
     "text": [
      "\n",
      "Found better solution (28.711736 --> 28.331592).  Saving model ...\n",
      "\n",
      "\n",
      "EPOCH 9 Completed, Time Taken: 0:00:36.376248\n",
      "\tTrain Loss \t1.69731261\n",
      "\tValid Loss \t3.34397752\n",
      "\t\tTPL \t\t5.4593\n",
      "\t\tVPL \t\t28.332\n"
     ]
    },
    {
     "data": {
      "application/vnd.jupyter.widget-view+json": {
       "model_id": "56e81b70a16e4689a7414f92af40e673",
       "version_major": 2,
       "version_minor": 0
      },
      "text/plain": [
       "HBox(children=(IntProgress(value=0, max=177), HTML(value='')))"
      ]
     },
     "metadata": {},
     "output_type": "display_data"
    },
    {
     "name": "stdout",
     "output_type": "stream",
     "text": [
      "\n"
     ]
    },
    {
     "data": {
      "application/vnd.jupyter.widget-view+json": {
       "model_id": "646d9b7b4e984867b6d84876e528e0a3",
       "version_major": 2,
       "version_minor": 0
      },
      "text/plain": [
       "HBox(children=(IntProgress(value=0, max=7), HTML(value='')))"
      ]
     },
     "metadata": {},
     "output_type": "display_data"
    },
    {
     "name": "stdout",
     "output_type": "stream",
     "text": [
      "\n",
      "EarlyStopping counter: 1 out of 3\n",
      "\n",
      "\n",
      "EPOCH 10 Completed, Time Taken: 0:00:35.176609\n",
      "\tTrain Loss \t1.55435946\n",
      "\tValid Loss \t3.43675297\n",
      "\t\tTPL \t\t4.7321\n",
      "\t\tVPL \t\t31.086\n"
     ]
    },
    {
     "data": {
      "application/vnd.jupyter.widget-view+json": {
       "model_id": "bfcaaffd77a9402ba953442fee0a547a",
       "version_major": 2,
       "version_minor": 0
      },
      "text/plain": [
       "HBox(children=(IntProgress(value=0, max=177), HTML(value='')))"
      ]
     },
     "metadata": {},
     "output_type": "display_data"
    },
    {
     "name": "stdout",
     "output_type": "stream",
     "text": [
      "\n"
     ]
    },
    {
     "data": {
      "application/vnd.jupyter.widget-view+json": {
       "model_id": "314c4cefb30b4ccfaf2a4977c9fa664d",
       "version_major": 2,
       "version_minor": 0
      },
      "text/plain": [
       "HBox(children=(IntProgress(value=0, max=7), HTML(value='')))"
      ]
     },
     "metadata": {},
     "output_type": "display_data"
    },
    {
     "name": "stdout",
     "output_type": "stream",
     "text": [
      "\n",
      "EarlyStopping counter: 2 out of 3\n",
      "\n",
      "\n",
      "EPOCH 11 Completed, Time Taken: 0:00:35.194182\n",
      "\tTrain Loss \t1.44498205\n",
      "\tValid Loss \t3.49581163\n",
      "\t\tTPL \t\t4.2418\n",
      "\t\tVPL \t\t32.977\n"
     ]
    },
    {
     "data": {
      "application/vnd.jupyter.widget-view+json": {
       "model_id": "8b45f64e382646fd8cf88f92bec9f898",
       "version_major": 2,
       "version_minor": 0
      },
      "text/plain": [
       "HBox(children=(IntProgress(value=0, max=177), HTML(value='')))"
      ]
     },
     "metadata": {},
     "output_type": "display_data"
    },
    {
     "name": "stdout",
     "output_type": "stream",
     "text": [
      "\n"
     ]
    },
    {
     "data": {
      "application/vnd.jupyter.widget-view+json": {
       "model_id": "ab6e295079a1465b99a4ed30a577f317",
       "version_major": 2,
       "version_minor": 0
      },
      "text/plain": [
       "HBox(children=(IntProgress(value=0, max=7), HTML(value='')))"
      ]
     },
     "metadata": {},
     "output_type": "display_data"
    },
    {
     "name": "stdout",
     "output_type": "stream",
     "text": [
      "\n",
      "EarlyStopping counter: 3 out of 3\n",
      "\n",
      "\n",
      "EPOCH 12 Completed, Time Taken: 0:00:35.430692\n",
      "\tTrain Loss \t1.34116336\n",
      "\tValid Loss \t3.46823015\n",
      "\t\tTPL \t\t3.8235\n",
      "\t\tVPL \t\t32.08\n"
     ]
    }
   ],
   "source": [
    "if TRAIN:\n",
    "    for e in range(N_EPOCHS):\n",
    "        st = time.time()\n",
    "        tl = train(model, train_iterator, optimizer, criterion, CLIP)\n",
    "        vl = evaluate(model, valid_iterator, criterion)\n",
    "        TPL = np.exp(tl)\n",
    "        VPL = np.exp(vl)\n",
    "        ea(VPL, model)\n",
    "        torch_utils.print_epoch_stat(e, time.time()-st, history=history, train_loss=tl, valid_loss=vl)\n",
    "        print(\"\\t\\tTPL \\t\\t{:0.5}\".format(TPL))\n",
    "        print(\"\\t\\tVPL \\t\\t{:0.5}\".format(VPL))\n",
    "        history.loc[e, \"TPL\"] = TPL\n",
    "        history.loc[e, \"VPL\"] = VPL\n",
    "        torch_utils.clear_cuda()\n",
    "\n",
    "        if ea.early_stop:\n",
    "            break"
   ]
  },
  {
   "cell_type": "code",
   "execution_count": 63,
   "metadata": {},
   "outputs": [],
   "source": [
    "def translate_sentence(sentence, src_field, trg_field, model, device, max_len=50):\n",
    "    model.eval()\n",
    "    \n",
    "    if isinstance(sentence, str):\n",
    "        nlp = spacy.load(\"de\")\n",
    "        tokens = [token.text.lower() for token in nlp.tokensize(sentence)]\n",
    "    else:\n",
    "        tokens = [token.lower() for token in sentence]\n",
    "    \n",
    "    tokens = [src_field.init_token]+tokens+[src_field.eos_token]\n",
    "    src_indexes = [src_field.vocab.stoi[token] for token in tokens]\n",
    "    # add a batch dimension now\n",
    "    src_tensor = torch.LongTensor(src_indexes).unsqueeze(dim=1).to(device)\n",
    "    src_len = torch.LongTensor([len(src_indexes)]).to(device)\n",
    "    \n",
    "    with torch.no_grad():\n",
    "        encoder_outputs, hidden = model.encoder(src_tensor, src_len)\n",
    "    \n",
    "    mask = model.create_mask(src_tensor)\n",
    "    \n",
    "    trg_indexes = [trg_field.vocab.stoi[trg_field.init_token]]\n",
    "    \n",
    "    attentions = torch.zeros(max_len, 1, len(src_indexes)).to(device)\n",
    "    \n",
    "    for i in range(max_len):\n",
    "        trg_tensor = torch.LongTensor([trg_indexes[-1]]).to(device)\n",
    "        \n",
    "        with torch.no_grad():\n",
    "            output, hidden, attention = model.decoder(trg_tensor, hidden, encoder_outputs, mask)\n",
    "        \n",
    "        attentions[i] = attention\n",
    "        pred_token = output.argmax(1).item()\n",
    "        trg_indexes.append(pred_token)\n",
    "        \n",
    "        if pred_token == trg_field.vocab.stoi[trg_field.eos_token]:\n",
    "            break\n",
    "    trg_tokens = [trg_field.vocab.itos[i] for i in trg_indexes]\n",
    "    \n",
    "    return trg_tokens[1:], attentions[:len(trg_tokens)-1]"
   ]
  },
  {
   "cell_type": "code",
   "execution_count": 64,
   "metadata": {},
   "outputs": [],
   "source": [
    "def display_attention(sentence, translation, attention):\n",
    "    fig = plt.figure(figsize=(15,15))\n",
    "    ax  = fig.add_subplot(111)\n",
    "    \n",
    "    attention = attention.squeeze(dim=1).cpu().detach().numpy()\n",
    "    \n",
    "    cax = ax.matshow(attention, cmap=\"bone\")\n",
    "    ax.tick_params(labelsize=15)\n",
    "    ax.set_xticklabels([\"\"]+[\"<sos>\"]+[t.lower() for t in sentence]+[\"<eos>\"], rotation=45)\n",
    "    ax.set_yticklabels([\"\"]+translation)\n",
    "    \n",
    "    ax.xaxis.set_major_locator(matplotlib.ticker.MultipleLocator(1))\n",
    "    ax.yaxis.set_major_locator(matplotlib.ticker.MultipleLocator(1))\n",
    "    \n",
    "    plt.show()\n",
    "    plt.close()"
   ]
  },
  {
   "cell_type": "code",
   "execution_count": 65,
   "metadata": {
    "scrolled": true
   },
   "outputs": [
    {
     "name": "stdout",
     "output_type": "stream",
     "text": [
      "src = ['ein', 'mann', 'mit', 'einem', 'orangefarbenen', 'hut', ',', 'der', 'etwas', 'anstarrt', '.']\n",
      "trg = ['a', 'man', 'in', 'an', 'orange', 'hat', 'starring', 'at', 'something', '.']\n"
     ]
    }
   ],
   "source": [
    "example_idx = 0\n",
    "src = vars(test_data.examples[example_idx])[\"src\"]\n",
    "trg = vars(test_data.examples[example_idx])[\"trg\"]\n",
    "\n",
    "print(f\"src = {src}\")\n",
    "print(f\"trg = {trg}\")"
   ]
  },
  {
   "cell_type": "code",
   "execution_count": 66,
   "metadata": {},
   "outputs": [
    {
     "name": "stdout",
     "output_type": "stream",
     "text": [
      "['a', 'man', 'wearing', 'an', 'orange', 'hat', 'is', 'something', '.', '<eos>']\n"
     ]
    },
    {
     "data": {
      "image/png": "[encoded data removed]",
      "text/plain": [
       "<Figure size 1080x1080 with 1 Axes>"
      ]
     },
     "metadata": {
      "needs_background": "light"
     },
     "output_type": "display_data"
    }
   ],
   "source": [
    "translation, attention = translate_sentence(src, SRC, TRG, model, device)\n",
    "print(translation)\n",
    "display_attention(src, translation, attention)"
   ]
  },
  {
   "cell_type": "code",
   "execution_count": 67,
   "metadata": {},
   "outputs": [
    {
     "data": {
      "application/vnd.jupyter.widget-view+json": {
       "model_id": "f9afd28681174c9baeaa279f30b5c256",
       "version_major": 2,
       "version_minor": 0
      },
      "text/plain": [
       "HBox(children=(IntProgress(value=0, max=7), HTML(value='')))"
      ]
     },
     "metadata": {},
     "output_type": "display_data"
    },
    {
     "name": "stdout",
     "output_type": "stream",
     "text": [
      "\n",
      "OF -- LOSS 3.4048 PL 30.109\n"
     ]
    }
   ],
   "source": [
    "ls = evaluate(model, test_iterator, criterion)\n",
    "print(\"OF -- LOSS {:0.5} PL {:0.5}\".format(ls, np.exp(ls)))"
   ]
  },
  {
   "cell_type": "code",
   "execution_count": 68,
   "metadata": {},
   "outputs": [
    {
     "data": {
      "text/plain": [
       "<All keys matched successfully>"
      ]
     },
     "execution_count": 68,
     "metadata": {},
     "output_type": "execute_result"
    }
   ],
   "source": [
    "model.load_state_dict(torch.load(checkpt_path, map_location=device))"
   ]
  },
  {
   "cell_type": "code",
   "execution_count": 69,
   "metadata": {},
   "outputs": [
    {
     "name": "stdout",
     "output_type": "stream",
     "text": [
      "['a', 'man', 'wearing', 'an', 'orange', 'hat', 'is', 'something', '.', '<eos>']\n"
     ]
    },
    {
     "data": {
      "image/png": "[encoded data removed]",
      "text/plain": [
       "<Figure size 1080x1080 with 1 Axes>"
      ]
     },
     "metadata": {
      "needs_background": "light"
     },
     "output_type": "display_data"
    }
   ],
   "source": [
    "translation, attention = translate_sentence(src, SRC, TRG, model, device)\n",
    "print(translation)\n",
    "display_attention(src, translation, attention)"
   ]
  },
  {
   "cell_type": "code",
   "execution_count": 70,
   "metadata": {},
   "outputs": [
    {
     "data": {
      "application/vnd.jupyter.widget-view+json": {
       "model_id": "460788a6379a49dc86f0ac969df71ff5",
       "version_major": 2,
       "version_minor": 0
      },
      "text/plain": [
       "HBox(children=(IntProgress(value=0, max=7), HTML(value='')))"
      ]
     },
     "metadata": {},
     "output_type": "display_data"
    },
    {
     "name": "stdout",
     "output_type": "stream",
     "text": [
      "\n",
      "Best -- LOSS 3.4048 PL 30.109\n"
     ]
    }
   ],
   "source": [
    "ls = evaluate(model, test_iterator, criterion)\n",
    "print(\"Best -- LOSS {:0.5} PL {:0.5}\".format(ls, np.exp(ls)))"
   ]
  },
  {
   "cell_type": "code",
   "execution_count": 75,
   "metadata": {},
   "outputs": [],
   "source": [
    "import bleu\n",
    "\n",
    "def calculate_bleu(data, src_field, trg_field, model, device, max_len=50):\n",
    "    trgs = []\n",
    "    pred_trgs = []\n",
    "    \n",
    "    for dataum in tqdm(data):\n",
    "        src = vars(dataum)[\"src\"]\n",
    "        trg = vars(dataum)[\"trg\"]\n",
    "        \n",
    "        pred_trg,_ = translate_sentence(src, src_field, trg_field, model, device, max_len)\n",
    "        pred_trg = pred_trg[:-1]\n",
    "        pred_trgs.append(pred_trg)\n",
    "        trgs.append([trg])\n",
    "        \n",
    "    return bleu.bleu_score(pred_trgs, trgs)"
   ]
  },
  {
   "cell_type": "code",
   "execution_count": 76,
   "metadata": {},
   "outputs": [
    {
     "data": {
      "application/vnd.jupyter.widget-view+json": {
       "model_id": "77ffd20a62c24be8bb407dd128ddfed9",
       "version_major": 2,
       "version_minor": 0
      },
      "text/plain": [
       "HBox(children=(IntProgress(value=0, max=1000), HTML(value='')))"
      ]
     },
     "metadata": {},
     "output_type": "display_data"
    },
    {
     "name": "stdout",
     "output_type": "stream",
     "text": [
      "\n",
      "BLEU = 30.52551067108144\n"
     ]
    }
   ],
   "source": [
    "bleu = calculate_bleu(test_data, SRC, TRG, model, device)\n",
    "\n",
    "print(f\"BLEU = {100.0*bleu}\")"
   ]
  },
  {
   "cell_type": "code",
   "execution_count": null,
   "metadata": {},
   "outputs": [],
   "source": []
  }
 ],
 "metadata": {
  "kernelspec": {
   "display_name": "Python 3",
   "language": "python",
   "name": "python3"
  },
  "language_info": {
   "codemirror_mode": {
    "name": "ipython",
    "version": 3
   },
   "file_extension": ".py",
   "mimetype": "text/x-python",
   "name": "python",
   "nbconvert_exporter": "python",
   "pygments_lexer": "ipython3",
   "version": "3.7.5"
  }
 },
 "nbformat": 4,
 "nbformat_minor": 2
}
